{
 "cells": [
  {
   "cell_type": "markdown",
   "metadata": {},
   "source": [
    "# K-modes and Association rules mining for analyzing  accident data in Senegal"
   ]
  },
  {
   "cell_type": "markdown",
   "metadata": {},
   "source": [
    "### Importing libraries"
   ]
  },
  {
   "cell_type": "code",
   "execution_count": 1590,
   "metadata": {},
   "outputs": [],
   "source": [
    "%matplotlib inline\n",
    "from copy import deepcopy\n",
    "import numpy as np\n",
    "import pandas as pd\n",
    "import os\n",
    "from matplotlib import pyplot as plt\n",
    "from sklearn import tree\n",
    "plt.rcParams['figure.figsize'] = (16, 9)\n",
    "plt.style.use('ggplot')\n",
    "import seaborn as sns\n",
    "%matplotlib inline\n",
    "from matplotlib.pyplot import xticks\n",
    "from apyori import apriori\n",
    "from fanalysis.mca import MCA"
   ]
  },
  {
   "cell_type": "markdown",
   "metadata": {},
   "source": [
    "### Importing dataset"
   ]
  },
  {
   "cell_type": "code",
   "execution_count": 1591,
   "metadata": {},
   "outputs": [
    {
     "name": "stdout",
     "output_type": "stream",
     "text": [
      "(6739, 97)\n"
     ]
    },
    {
     "data": {
      "text/html": [
       "<div>\n",
       "<style scoped>\n",
       "    .dataframe tbody tr th:only-of-type {\n",
       "        vertical-align: middle;\n",
       "    }\n",
       "\n",
       "    .dataframe tbody tr th {\n",
       "        vertical-align: top;\n",
       "    }\n",
       "\n",
       "    .dataframe thead th {\n",
       "        text-align: right;\n",
       "    }\n",
       "</style>\n",
       "<table border=\"1\" class=\"dataframe\">\n",
       "  <thead>\n",
       "    <tr style=\"text-align: right;\">\n",
       "      <th></th>\n",
       "      <th>Unnamed: 0</th>\n",
       "      <th>instanceID</th>\n",
       "      <th>numero_questionnaire</th>\n",
       "      <th>code</th>\n",
       "      <th>lieu_enquete</th>\n",
       "      <th>Nom</th>\n",
       "      <th>fonction</th>\n",
       "      <th>telephone</th>\n",
       "      <th>date_enquete</th>\n",
       "      <th>prenom_nom_enqueteur</th>\n",
       "      <th>...</th>\n",
       "      <th>vehicule2usage</th>\n",
       "      <th>vehicule2visite_technique_regl</th>\n",
       "      <th>vehicule2age_vehicule</th>\n",
       "      <th>vehicule3numero_vehicule</th>\n",
       "      <th>vehicule3type</th>\n",
       "      <th>vehicule3usage</th>\n",
       "      <th>vehicule3visite_technique_regl</th>\n",
       "      <th>vehicule3age_vehicule</th>\n",
       "      <th>id</th>\n",
       "      <th>nature_degat</th>\n",
       "    </tr>\n",
       "  </thead>\n",
       "  <tbody>\n",
       "    <tr>\n",
       "      <td>0</td>\n",
       "      <td>0</td>\n",
       "      <td>uuid:c83a9439-7187-4ca1-8560-816db261e253</td>\n",
       "      <td>1514</td>\n",
       "      <td>NIS</td>\n",
       "      <td>Commissariat bel air</td>\n",
       "      <td>Abdoulaye niassy</td>\n",
       "      <td>Chef section accident</td>\n",
       "      <td>775326421</td>\n",
       "      <td>11/6/2017</td>\n",
       "      <td>10</td>\n",
       "      <td>...</td>\n",
       "      <td>NaN</td>\n",
       "      <td>NaN</td>\n",
       "      <td>NaN</td>\n",
       "      <td>NaN</td>\n",
       "      <td>NaN</td>\n",
       "      <td>NaN</td>\n",
       "      <td>NaN</td>\n",
       "      <td>NaN</td>\n",
       "      <td>1.0</td>\n",
       "      <td>0.0</td>\n",
       "    </tr>\n",
       "    <tr>\n",
       "      <td>1</td>\n",
       "      <td>1</td>\n",
       "      <td>uuid:4e0d2e6b-255c-4884-bc3e-b69fb6272228</td>\n",
       "      <td>1515</td>\n",
       "      <td>NIS</td>\n",
       "      <td>Commissariat bel air</td>\n",
       "      <td>Abdoulaye niassy</td>\n",
       "      <td>Chef de section accident</td>\n",
       "      <td>775326421</td>\n",
       "      <td>11/6/2017</td>\n",
       "      <td>10</td>\n",
       "      <td>...</td>\n",
       "      <td>NaN</td>\n",
       "      <td>NaN</td>\n",
       "      <td>NaN</td>\n",
       "      <td>NaN</td>\n",
       "      <td>NaN</td>\n",
       "      <td>NaN</td>\n",
       "      <td>NaN</td>\n",
       "      <td>NaN</td>\n",
       "      <td>2.0</td>\n",
       "      <td>0.0</td>\n",
       "    </tr>\n",
       "    <tr>\n",
       "      <td>2</td>\n",
       "      <td>2</td>\n",
       "      <td>uuid:9a0726e5-de13-4f2a-a3ed-36257c7f6ab5</td>\n",
       "      <td>1516</td>\n",
       "      <td>NTF</td>\n",
       "      <td>Commissariat de bel air</td>\n",
       "      <td>Mr ABDOULAYE NIASSY</td>\n",
       "      <td>CHEF SECTION ACCIDENT</td>\n",
       "      <td>775326421</td>\n",
       "      <td>11/6/2017</td>\n",
       "      <td>10</td>\n",
       "      <td>...</td>\n",
       "      <td>NaN</td>\n",
       "      <td>NaN</td>\n",
       "      <td>NaN</td>\n",
       "      <td>NaN</td>\n",
       "      <td>NaN</td>\n",
       "      <td>NaN</td>\n",
       "      <td>NaN</td>\n",
       "      <td>NaN</td>\n",
       "      <td>3.0</td>\n",
       "      <td>0.0</td>\n",
       "    </tr>\n",
       "    <tr>\n",
       "      <td>3</td>\n",
       "      <td>3</td>\n",
       "      <td>uuid:4dc97b25-aad3-4eb9-a7bb-0ff321a96284</td>\n",
       "      <td>1517</td>\n",
       "      <td>NTF</td>\n",
       "      <td>Commissariat de bel air</td>\n",
       "      <td>Mr ABDOULAYE NIASSY</td>\n",
       "      <td>Chef section accident</td>\n",
       "      <td>775326421</td>\n",
       "      <td>11/6/2017</td>\n",
       "      <td>10</td>\n",
       "      <td>...</td>\n",
       "      <td>NaN</td>\n",
       "      <td>NaN</td>\n",
       "      <td>NaN</td>\n",
       "      <td>NaN</td>\n",
       "      <td>NaN</td>\n",
       "      <td>NaN</td>\n",
       "      <td>NaN</td>\n",
       "      <td>NaN</td>\n",
       "      <td>4.0</td>\n",
       "      <td>0.0</td>\n",
       "    </tr>\n",
       "    <tr>\n",
       "      <td>4</td>\n",
       "      <td>4</td>\n",
       "      <td>uuid:43a028f9-2c84-4cdf-95e0-0b19c8c8e9fc</td>\n",
       "      <td>1518</td>\n",
       "      <td>MAS</td>\n",
       "      <td>Commissariat de bel air</td>\n",
       "      <td>Mr Abdoulaye niassy</td>\n",
       "      <td>Chef section accident</td>\n",
       "      <td>775326421</td>\n",
       "      <td>11/6/2017</td>\n",
       "      <td>10</td>\n",
       "      <td>...</td>\n",
       "      <td>NaN</td>\n",
       "      <td>NaN</td>\n",
       "      <td>NaN</td>\n",
       "      <td>NaN</td>\n",
       "      <td>NaN</td>\n",
       "      <td>NaN</td>\n",
       "      <td>NaN</td>\n",
       "      <td>NaN</td>\n",
       "      <td>5.0</td>\n",
       "      <td>0.0</td>\n",
       "    </tr>\n",
       "  </tbody>\n",
       "</table>\n",
       "<p>5 rows × 97 columns</p>\n",
       "</div>"
      ],
      "text/plain": [
       "   Unnamed: 0                                 instanceID numero_questionnaire  \\\n",
       "0           0  uuid:c83a9439-7187-4ca1-8560-816db261e253                 1514   \n",
       "1           1  uuid:4e0d2e6b-255c-4884-bc3e-b69fb6272228                 1515   \n",
       "2           2  uuid:9a0726e5-de13-4f2a-a3ed-36257c7f6ab5                 1516   \n",
       "3           3  uuid:4dc97b25-aad3-4eb9-a7bb-0ff321a96284                 1517   \n",
       "4           4  uuid:43a028f9-2c84-4cdf-95e0-0b19c8c8e9fc                 1518   \n",
       "\n",
       "  code             lieu_enquete                  Nom  \\\n",
       "0  NIS     Commissariat bel air     Abdoulaye niassy   \n",
       "1  NIS     Commissariat bel air     Abdoulaye niassy   \n",
       "2  NTF  Commissariat de bel air  Mr ABDOULAYE NIASSY   \n",
       "3  NTF  Commissariat de bel air  Mr ABDOULAYE NIASSY   \n",
       "4  MAS  Commissariat de bel air  Mr Abdoulaye niassy   \n",
       "\n",
       "                   fonction  telephone date_enquete prenom_nom_enqueteur  ...  \\\n",
       "0     Chef section accident  775326421    11/6/2017                   10  ...   \n",
       "1  Chef de section accident  775326421    11/6/2017                   10  ...   \n",
       "2     CHEF SECTION ACCIDENT  775326421    11/6/2017                   10  ...   \n",
       "3     Chef section accident  775326421    11/6/2017                   10  ...   \n",
       "4     Chef section accident  775326421    11/6/2017                   10  ...   \n",
       "\n",
       "  vehicule2usage vehicule2visite_technique_regl vehicule2age_vehicule  \\\n",
       "0            NaN                            NaN                   NaN   \n",
       "1            NaN                            NaN                   NaN   \n",
       "2            NaN                            NaN                   NaN   \n",
       "3            NaN                            NaN                   NaN   \n",
       "4            NaN                            NaN                   NaN   \n",
       "\n",
       "  vehicule3numero_vehicule vehicule3type vehicule3usage  \\\n",
       "0                      NaN           NaN            NaN   \n",
       "1                      NaN           NaN            NaN   \n",
       "2                      NaN           NaN            NaN   \n",
       "3                      NaN           NaN            NaN   \n",
       "4                      NaN           NaN            NaN   \n",
       "\n",
       "  vehicule3visite_technique_regl vehicule3age_vehicule   id nature_degat  \n",
       "0                            NaN                   NaN  1.0          0.0  \n",
       "1                            NaN                   NaN  2.0          0.0  \n",
       "2                            NaN                   NaN  3.0          0.0  \n",
       "3                            NaN                   NaN  4.0          0.0  \n",
       "4                            NaN                   NaN  5.0          0.0  \n",
       "\n",
       "[5 rows x 97 columns]"
      ]
     },
     "execution_count": 1591,
     "metadata": {},
     "output_type": "execute_result"
    }
   ],
   "source": [
    "data = pd.read_csv('Base.csv')\n",
    "print(data.shape)\n",
    "data.head()"
   ]
  },
  {
   "cell_type": "markdown",
   "metadata": {},
   "source": [
    "## Data Preprocessing"
   ]
  },
  {
   "cell_type": "code",
   "execution_count": 1592,
   "metadata": {},
   "outputs": [
    {
     "data": {
      "text/plain": [
       "Index(['Unnamed: 0', 'instanceID', 'numero_questionnaire', 'code',\n",
       "       'lieu_enquete', 'Nom', 'fonction', 'telephone', 'date_enquete',\n",
       "       'prenom_nom_enqueteur', 'prenom_nom_expert_superieur',\n",
       "       'prenom_nom_operateur', 'numero_dossier_sinistre', 'type_PV',\n",
       "       'nature_degats_causes_accident', 'accident_materiel',\n",
       "       'accident_corporel', 'accident_mat_corp', 'nb_veh_impl',\n",
       "       'analyse_responsabilite', 'vehicule0numero_vehicule', 'vehic_type',\n",
       "       'vehic_usage', 'vehicule0visite_technique_regl', 'visite_techni',\n",
       "       'vehicule0age_vehicule', 'age_vehicle', 'assurance', 'assurance2',\n",
       "       'assurance_auto', 'date_accident', 'annee', 'jour_accident',\n",
       "       'jour_ferie', 'mois_accident', 'tranche_horaire_accident',\n",
       "       'tranche_horaire', 'periode_accident', 'autres_fetes',\n",
       "       'localite_survenance', 'lieu_survenance', 'region_survenance', 'region',\n",
       "       'tranche_ge_presume_responsable', 'tranche_age', 'sexe_conducteur',\n",
       "       'profession_conducteur_presume_re', 'profession_conduc_r',\n",
       "       'autre_profession', 'origine_permis', 'autres_origine_permis',\n",
       "       'age_permis', 'age_permis_r', 'types_route0', 'type_route_r',\n",
       "       'autres_type_route', 'etat_route', 'etat_route_r', 'agglom_camp',\n",
       "       'cas_virage', 'intersection', 'regles_priorite',\n",
       "       'impact_luminosite_moment_acciden', 'luminosite',\n",
       "       'impact_conditions_atmospheriques', 'condit_atmosph',\n",
       "       'conduite_etat_ebriete', 'perte_controle_conducteur',\n",
       "       'Depassement_defectueux', 'stationnement_irregulier', 'exces_vitesse',\n",
       "       'non_resp_pann_signal', 'ralentisseurs', 'animaux_divagation',\n",
       "       'absence_signalisation', 'autres_relevees',\n",
       "       'observations_particulieres_accid', 'fin', 'types_route1',\n",
       "       'vehicule1numero_vehicule', 'vehicule1type', 'vehicule1usage',\n",
       "       'vehicule1visite_technique_regl', 'vehicule1age_vehicule',\n",
       "       'types_route2', 'vehicule2numero_vehicule', 'vehicule2type',\n",
       "       'vehicule2usage', 'vehicule2visite_technique_regl',\n",
       "       'vehicule2age_vehicule', 'vehicule3numero_vehicule', 'vehicule3type',\n",
       "       'vehicule3usage', 'vehicule3visite_technique_regl',\n",
       "       'vehicule3age_vehicule', 'id', 'nature_degat'],\n",
       "      dtype='object')"
      ]
     },
     "execution_count": 1592,
     "metadata": {},
     "output_type": "execute_result"
    }
   ],
   "source": [
    "data.columns "
   ]
  },
  {
   "cell_type": "markdown",
   "metadata": {},
   "source": [
    "### > Cleanning data"
   ]
  },
  {
   "cell_type": "code",
   "execution_count": 1593,
   "metadata": {},
   "outputs": [],
   "source": [
    "data.drop(['Unnamed: 0','instanceID','numero_questionnaire','code','lieu_enquete',\n",
    " 'Nom','fonction','telephone','date_enquete','prenom_nom_enqueteur',\n",
    " 'prenom_nom_expert_superieur', 'prenom_nom_operateur',\n",
    " 'numero_dossier_sinistre','type_PV','id','fin',\n",
    " 'observations_particulieres_accid',\n",
    " 'vehicule3numero_vehicule','vehicule2numero_vehicule',\n",
    " 'vehicule1numero_vehicule','vehicule0numero_vehicule',\n",
    " 'autres_relevees', 'etat_route_r','type_route_r',\n",
    " 'types_route1','types_route2','vehicule3visite_technique_regl',\n",
    "'vehicule2visite_technique_regl','vehicule1visite_technique_regl',\n",
    "'vehicule1type','vehicule1usage','vehicule1age_vehicule',\n",
    " 'vehicule2type','vehicule2usage', 'vehicule2age_vehicule',\n",
    " 'vehicule3type','vehicule3usage','vehicule3age_vehicule',\n",
    " 'age_permis_r', 'nature_degat',\n",
    " 'autres_origine_permis',               \n",
    "'autres_fetes',                        \n",
    "'autres_type_route',                   \n",
    "'autre_profession',                    \n",
    "'assurance',                            \n",
    "'tranche_horaire_accident',             \n",
    "'profession_conducteur_presume_re',     \n",
    "'lieu_survenance',                       \n",
    "'region_survenance','vehicule0visite_technique_regl','accident_materiel',\n",
    "'accident_corporel','accident_mat_corp','vehicule0age_vehicule'], axis='columns', inplace=True, index=None)"
   ]
  },
  {
   "cell_type": "code",
   "execution_count": null,
   "metadata": {},
   "outputs": [],
   "source": []
  },
  {
   "cell_type": "markdown",
   "metadata": {},
   "source": [
    "### > Check missing values"
   ]
  },
  {
   "cell_type": "code",
   "execution_count": 1594,
   "metadata": {},
   "outputs": [
    {
     "data": {
      "text/plain": [
       "absence_signalisation               0\n",
       "annee                               0\n",
       "tranche_ge_presume_responsable      0\n",
       "region                              0\n",
       "localite_survenance                 0\n",
       "periode_accident                    0\n",
       "tranche_horaire                     0\n",
       "mois_accident                       0\n",
       "jour_ferie                          0\n",
       "jour_accident                       0\n",
       "date_accident                       0\n",
       "sexe_conducteur                     0\n",
       "assurance_auto                      0\n",
       "assurance2                          0\n",
       "age_vehicle                         0\n",
       "visite_techni                       0\n",
       "vehic_usage                         0\n",
       "vehic_type                          0\n",
       "analyse_responsabilite              0\n",
       "nb_veh_impl                         0\n",
       "tranche_age                         0\n",
       "profession_conduc_r                 0\n",
       "animaux_divagation                  0\n",
       "impact_conditions_atmospheriques    0\n",
       "ralentisseurs                       0\n",
       "non_resp_pann_signal                0\n",
       "exces_vitesse                       0\n",
       "stationnement_irregulier            0\n",
       "Depassement_defectueux              0\n",
       "perte_controle_conducteur           0\n",
       "conduite_etat_ebriete               0\n",
       "condit_atmosph                      0\n",
       "luminosite                          0\n",
       "origine_permis                      0\n",
       "impact_luminosite_moment_acciden    0\n",
       "regles_priorite                     0\n",
       "intersection                        0\n",
       "cas_virage                          0\n",
       "agglom_camp                         0\n",
       "etat_route                          0\n",
       "types_route0                        0\n",
       "age_permis                          0\n",
       "nature_degats_causes_accident       0\n",
       "dtype: int64"
      ]
     },
     "execution_count": 1594,
     "metadata": {},
     "output_type": "execute_result"
    }
   ],
   "source": [
    "data.isnull().sum().sort_values(ascending=False)"
   ]
  },
  {
   "cell_type": "code",
   "execution_count": 1595,
   "metadata": {},
   "outputs": [
    {
     "data": {
      "text/plain": [
       "(6739, 43)"
      ]
     },
     "execution_count": 1595,
     "metadata": {},
     "output_type": "execute_result"
    }
   ],
   "source": [
    "data.shape"
   ]
  },
  {
   "cell_type": "code",
   "execution_count": 1596,
   "metadata": {},
   "outputs": [
    {
     "data": {
      "text/plain": [
       "Index(['nature_degats_causes_accident', 'nb_veh_impl',\n",
       "       'analyse_responsabilite', 'vehic_type', 'vehic_usage', 'visite_techni',\n",
       "       'age_vehicle', 'assurance2', 'assurance_auto', 'date_accident', 'annee',\n",
       "       'jour_accident', 'jour_ferie', 'mois_accident', 'tranche_horaire',\n",
       "       'periode_accident', 'localite_survenance', 'region',\n",
       "       'tranche_ge_presume_responsable', 'tranche_age', 'sexe_conducteur',\n",
       "       'profession_conduc_r', 'origine_permis', 'age_permis', 'types_route0',\n",
       "       'etat_route', 'agglom_camp', 'cas_virage', 'intersection',\n",
       "       'regles_priorite', 'impact_luminosite_moment_acciden', 'luminosite',\n",
       "       'impact_conditions_atmospheriques', 'condit_atmosph',\n",
       "       'conduite_etat_ebriete', 'perte_controle_conducteur',\n",
       "       'Depassement_defectueux', 'stationnement_irregulier', 'exces_vitesse',\n",
       "       'non_resp_pann_signal', 'ralentisseurs', 'animaux_divagation',\n",
       "       'absence_signalisation'],\n",
       "      dtype='object')"
      ]
     },
     "execution_count": 1596,
     "metadata": {},
     "output_type": "execute_result"
    }
   ],
   "source": [
    "data.columns"
   ]
  },
  {
   "cell_type": "markdown",
   "metadata": {},
   "source": [
    "### > Data converting and tranforming"
   ]
  },
  {
   "cell_type": "code",
   "execution_count": 1597,
   "metadata": {},
   "outputs": [],
   "source": [
    "data.loc[  (data[\"conduite_etat_ebriete\"]=='Oui'), 'conduite_etat_ebriete'] = 'cond en etat ebriete'\n",
    "data.loc[  (data[\"conduite_etat_ebriete\"]=='Non'), 'conduite_etat_ebriete'] = 'cond en etat normal'\n",
    "\n",
    "data.loc[  (data[\"non_resp_pann_signal\"]=='Oui'), 'non_resp_pann_signal'] = 'non resp pann signal'\n",
    "data.loc[  (data[\"non_resp_pann_signal\"]=='Non'), 'non_resp_pann_signal'] = 'resp pann signal'\n",
    "\n",
    "data.loc[  (data[\"exces_vitesse\"]=='Oui'), 'exces_vitesse'] = 'exces vitesse'\n",
    "data.loc[  (data[\"exces_vitesse\"]=='Non'), 'exces_vitesse'] = 'vitesse normale'\n",
    "\n",
    "data.loc[  (data[\"perte_controle_conducteur\"]=='Oui'), 'perte_controle_conducteur'] = 'perte controle conducteur'\n",
    "data.loc[  (data[\"perte_controle_conducteur\"]=='Non'), 'perte_controle_conducteur'] = 'non perte controle conducteur'\n",
    "\n",
    "data.loc[  (data[\"Depassement_defectueux\"]=='Oui'), 'Depassement_defectueux'] = 'Depassement defectueux'\n",
    "data.loc[  (data[\"Depassement_defectueux\"]=='Non'), 'Depassement_defectueux'] = 'Pas Depassement defectueux'\n",
    "\n",
    "data.loc[  (data[\"animaux_divagation\"]=='Oui'), 'animaux_divagation'] = 'animaux divagation'\n",
    "data.loc[  (data[\"animaux_divagation\"]=='Non'), 'animaux_divagation'] = 'Pas animaux divagation'\n",
    "\n",
    "data.loc[  (data[\"absence_signalisation\"]=='Oui'), 'absence_signalisation'] = 'absence signalisation'\n",
    "data.loc[  (data[\"absence_signalisation\"]=='Non'), 'absence_signalisation'] = 'signalisation'\n",
    "\n",
    "\n",
    "data.loc[  (data[\"ralentisseurs\"]=='Non'), 'ralentisseurs'] = 'Pas ralentisseurs'\n",
    "data.loc[  (data[\"ralentisseurs\"]=='Oui'), 'ralentisseurs'] = 'ralentisseurs'\n",
    "\n",
    "data.loc[  (data[\"ralentisseurs\"]=='Oui'), 'ralentisseurs'] = 'ralentisseurs'\n",
    "data.loc[  (data[\"ralentisseurs\"]=='Oui'), 'ralentisseurs'] = 'ralentisseurs'\n",
    "\n",
    "data.loc[  (data[\"visite_techni\"]=='Oui'), 'visite_techni'] = 'visite techni Ok'\n",
    "data.loc[  (data[\"visite_techni\"]=='Non'), 'visite_techni'] = 'Defaut visite techni'\n"
   ]
  },
  {
   "cell_type": "code",
   "execution_count": 1598,
   "metadata": {},
   "outputs": [],
   "source": [
    "data.columns = data.columns.str.replace(\"types_route0\",\"types_route\")"
   ]
  },
  {
   "cell_type": "code",
   "execution_count": 1599,
   "metadata": {},
   "outputs": [
    {
     "name": "stdout",
     "output_type": "stream",
     "text": [
      "<class 'pandas.core.frame.DataFrame'>\n",
      "RangeIndex: 6739 entries, 0 to 6738\n",
      "Data columns (total 43 columns):\n",
      "nature_degats_causes_accident       6739 non-null object\n",
      "nb_veh_impl                         6739 non-null object\n",
      "analyse_responsabilite              6739 non-null object\n",
      "vehic_type                          6739 non-null object\n",
      "vehic_usage                         6739 non-null object\n",
      "visite_techni                       6739 non-null object\n",
      "age_vehicle                         6739 non-null object\n",
      "assurance2                          6739 non-null object\n",
      "assurance_auto                      6739 non-null object\n",
      "date_accident                       6739 non-null object\n",
      "annee                               6739 non-null float64\n",
      "jour_accident                       6739 non-null object\n",
      "jour_ferie                          6739 non-null object\n",
      "mois_accident                       6739 non-null object\n",
      "tranche_horaire                     6739 non-null object\n",
      "periode_accident                    6739 non-null object\n",
      "localite_survenance                 6739 non-null object\n",
      "region                              6739 non-null object\n",
      "tranche_ge_presume_responsable      6739 non-null object\n",
      "tranche_age                         6739 non-null object\n",
      "sexe_conducteur                     6739 non-null object\n",
      "profession_conduc_r                 6739 non-null object\n",
      "origine_permis                      6739 non-null object\n",
      "age_permis                          6739 non-null object\n",
      "types_route                         6739 non-null object\n",
      "etat_route                          6739 non-null object\n",
      "agglom_camp                         6739 non-null object\n",
      "cas_virage                          6739 non-null object\n",
      "intersection                        6739 non-null object\n",
      "regles_priorite                     6739 non-null object\n",
      "impact_luminosite_moment_acciden    6739 non-null object\n",
      "luminosite                          6739 non-null object\n",
      "impact_conditions_atmospheriques    6739 non-null object\n",
      "condit_atmosph                      6739 non-null object\n",
      "conduite_etat_ebriete               6739 non-null object\n",
      "perte_controle_conducteur           6739 non-null object\n",
      "Depassement_defectueux              6739 non-null object\n",
      "stationnement_irregulier            6739 non-null object\n",
      "exces_vitesse                       6739 non-null object\n",
      "non_resp_pann_signal                6739 non-null object\n",
      "ralentisseurs                       6739 non-null object\n",
      "animaux_divagation                  6739 non-null object\n",
      "absence_signalisation               6739 non-null object\n",
      "dtypes: float64(1), object(42)\n",
      "memory usage: 2.2+ MB\n"
     ]
    }
   ],
   "source": [
    "data.info()"
   ]
  },
  {
   "cell_type": "markdown",
   "metadata": {},
   "source": [
    "#### Converting annee into categorical variable:"
   ]
  },
  {
   "cell_type": "code",
   "execution_count": 1600,
   "metadata": {},
   "outputs": [],
   "source": [
    "data.loc[  (data[\"annee\"]== 2014.0), 'annee_'] = '2014_'\n",
    "data.loc[  (data[\"annee\"]== 2015.0), 'annee_'] = '2015_'\n",
    "data.loc[  (data[\"annee\"]== 2016.0), 'annee_'] = '2016_'\n",
    "data.loc[  (data[\"annee\"]== 2017.0), 'annee_'] = '2017_'\n",
    "data.drop(['annee'], axis='columns', inplace=True, index=None)"
   ]
  },
  {
   "cell_type": "markdown",
   "metadata": {},
   "source": [
    "## Exploratory studies"
   ]
  },
  {
   "cell_type": "markdown",
   "metadata": {},
   "source": [
    "### > Describe the data"
   ]
  },
  {
   "cell_type": "code",
   "execution_count": 1601,
   "metadata": {},
   "outputs": [
    {
     "data": {
      "text/html": [
       "<div>\n",
       "<style scoped>\n",
       "    .dataframe tbody tr th:only-of-type {\n",
       "        vertical-align: middle;\n",
       "    }\n",
       "\n",
       "    .dataframe tbody tr th {\n",
       "        vertical-align: top;\n",
       "    }\n",
       "\n",
       "    .dataframe thead th {\n",
       "        text-align: right;\n",
       "    }\n",
       "</style>\n",
       "<table border=\"1\" class=\"dataframe\">\n",
       "  <thead>\n",
       "    <tr style=\"text-align: right;\">\n",
       "      <th></th>\n",
       "      <th>nature_degats_causes_accident</th>\n",
       "      <th>nb_veh_impl</th>\n",
       "      <th>analyse_responsabilite</th>\n",
       "      <th>vehic_type</th>\n",
       "      <th>vehic_usage</th>\n",
       "      <th>visite_techni</th>\n",
       "      <th>age_vehicle</th>\n",
       "      <th>assurance2</th>\n",
       "      <th>assurance_auto</th>\n",
       "      <th>date_accident</th>\n",
       "      <th>...</th>\n",
       "      <th>conduite_etat_ebriete</th>\n",
       "      <th>perte_controle_conducteur</th>\n",
       "      <th>Depassement_defectueux</th>\n",
       "      <th>stationnement_irregulier</th>\n",
       "      <th>exces_vitesse</th>\n",
       "      <th>non_resp_pann_signal</th>\n",
       "      <th>ralentisseurs</th>\n",
       "      <th>animaux_divagation</th>\n",
       "      <th>absence_signalisation</th>\n",
       "      <th>annee_</th>\n",
       "    </tr>\n",
       "  </thead>\n",
       "  <tbody>\n",
       "    <tr>\n",
       "      <td>count</td>\n",
       "      <td>6739</td>\n",
       "      <td>6739</td>\n",
       "      <td>6739</td>\n",
       "      <td>6739</td>\n",
       "      <td>6739</td>\n",
       "      <td>6739</td>\n",
       "      <td>6739</td>\n",
       "      <td>6739</td>\n",
       "      <td>6739</td>\n",
       "      <td>6739</td>\n",
       "      <td>...</td>\n",
       "      <td>6739</td>\n",
       "      <td>6739</td>\n",
       "      <td>6739</td>\n",
       "      <td>6739</td>\n",
       "      <td>6739</td>\n",
       "      <td>6739</td>\n",
       "      <td>6739</td>\n",
       "      <td>6739</td>\n",
       "      <td>6739</td>\n",
       "      <td>6739</td>\n",
       "    </tr>\n",
       "    <tr>\n",
       "      <td>unique</td>\n",
       "      <td>3</td>\n",
       "      <td>5</td>\n",
       "      <td>3</td>\n",
       "      <td>5</td>\n",
       "      <td>5</td>\n",
       "      <td>2</td>\n",
       "      <td>5</td>\n",
       "      <td>21</td>\n",
       "      <td>20</td>\n",
       "      <td>1508</td>\n",
       "      <td>...</td>\n",
       "      <td>2</td>\n",
       "      <td>2</td>\n",
       "      <td>2</td>\n",
       "      <td>2</td>\n",
       "      <td>2</td>\n",
       "      <td>2</td>\n",
       "      <td>2</td>\n",
       "      <td>2</td>\n",
       "      <td>2</td>\n",
       "      <td>4</td>\n",
       "    </tr>\n",
       "    <tr>\n",
       "      <td>top</td>\n",
       "      <td>Materielle</td>\n",
       "      <td>2 vehicules</td>\n",
       "      <td>Responsabilté unipersonnelle</td>\n",
       "      <td>Berline</td>\n",
       "      <td>VP</td>\n",
       "      <td>visite techni Ok</td>\n",
       "      <td>+ 20ans</td>\n",
       "      <td>SECURITE ASS</td>\n",
       "      <td>SECURITE ASS</td>\n",
       "      <td>9/9/2016</td>\n",
       "      <td>...</td>\n",
       "      <td>cond en etat normal</td>\n",
       "      <td>perte controle conducteur</td>\n",
       "      <td>Pas Depassement defectueux</td>\n",
       "      <td>Non</td>\n",
       "      <td>vitesse normale</td>\n",
       "      <td>resp pann signal</td>\n",
       "      <td>Pas ralentisseurs</td>\n",
       "      <td>Pas animaux divagation</td>\n",
       "      <td>signalisation</td>\n",
       "      <td>2016_</td>\n",
       "    </tr>\n",
       "    <tr>\n",
       "      <td>freq</td>\n",
       "      <td>3435</td>\n",
       "      <td>4103</td>\n",
       "      <td>6627</td>\n",
       "      <td>3405</td>\n",
       "      <td>2773</td>\n",
       "      <td>6538</td>\n",
       "      <td>3071</td>\n",
       "      <td>1054</td>\n",
       "      <td>1224</td>\n",
       "      <td>18</td>\n",
       "      <td>...</td>\n",
       "      <td>6574</td>\n",
       "      <td>4179</td>\n",
       "      <td>6144</td>\n",
       "      <td>6669</td>\n",
       "      <td>6523</td>\n",
       "      <td>6591</td>\n",
       "      <td>6711</td>\n",
       "      <td>6714</td>\n",
       "      <td>6676</td>\n",
       "      <td>2570</td>\n",
       "    </tr>\n",
       "  </tbody>\n",
       "</table>\n",
       "<p>4 rows × 43 columns</p>\n",
       "</div>"
      ],
      "text/plain": [
       "       nature_degats_causes_accident  nb_veh_impl  \\\n",
       "count                           6739         6739   \n",
       "unique                             3            5   \n",
       "top                       Materielle  2 vehicules   \n",
       "freq                            3435         4103   \n",
       "\n",
       "              analyse_responsabilite vehic_type vehic_usage     visite_techni  \\\n",
       "count                           6739       6739        6739              6739   \n",
       "unique                             3          5           5                 2   \n",
       "top     Responsabilté unipersonnelle    Berline          VP  visite techni Ok   \n",
       "freq                            6627       3405        2773              6538   \n",
       "\n",
       "       age_vehicle    assurance2 assurance_auto date_accident  ...  \\\n",
       "count         6739          6739           6739          6739  ...   \n",
       "unique           5            21             20          1508  ...   \n",
       "top        + 20ans  SECURITE ASS   SECURITE ASS      9/9/2016  ...   \n",
       "freq          3071          1054           1224            18  ...   \n",
       "\n",
       "       conduite_etat_ebriete  perte_controle_conducteur  \\\n",
       "count                   6739                       6739   \n",
       "unique                     2                          2   \n",
       "top      cond en etat normal  perte controle conducteur   \n",
       "freq                    6574                       4179   \n",
       "\n",
       "            Depassement_defectueux stationnement_irregulier    exces_vitesse  \\\n",
       "count                         6739                     6739             6739   \n",
       "unique                           2                        2                2   \n",
       "top     Pas Depassement defectueux                      Non  vitesse normale   \n",
       "freq                          6144                     6669             6523   \n",
       "\n",
       "       non_resp_pann_signal      ralentisseurs      animaux_divagation  \\\n",
       "count                  6739               6739                    6739   \n",
       "unique                    2                  2                       2   \n",
       "top        resp pann signal  Pas ralentisseurs  Pas animaux divagation   \n",
       "freq                   6591               6711                    6714   \n",
       "\n",
       "       absence_signalisation annee_  \n",
       "count                   6739   6739  \n",
       "unique                     2      4  \n",
       "top            signalisation  2016_  \n",
       "freq                    6676   2570  \n",
       "\n",
       "[4 rows x 43 columns]"
      ]
     },
     "execution_count": 1601,
     "metadata": {},
     "output_type": "execute_result"
    }
   ],
   "source": [
    "data.describe()"
   ]
  },
  {
   "cell_type": "markdown",
   "metadata": {},
   "source": [
    "### Univariate study"
   ]
  },
  {
   "cell_type": "code",
   "execution_count": 1602,
   "metadata": {},
   "outputs": [
    {
     "data": {
      "image/png": "[encoded data removed]",
      "text/plain": [
       "<Figure size 360x360 with 1 Axes>"
      ]
     },
     "metadata": {
      "needs_background": "light"
     },
     "output_type": "display_data"
    }
   ],
   "source": [
    "ax = sns.catplot(x='region',kind='count',data=data,orient=\"h\")\n",
    "ax.fig.autofmt_xdate()"
   ]
  },
  {
   "cell_type": "code",
   "execution_count": 1603,
   "metadata": {},
   "outputs": [
    {
     "data": {
      "image/png": "[encoded data removed]",
      "text/plain": [
       "<Figure size 360x360 with 1 Axes>"
      ]
     },
     "metadata": {
      "needs_background": "light"
     },
     "output_type": "display_data"
    }
   ],
   "source": [
    "ax = sns.catplot(x='annee_',kind='count',data=data,orient=\"h\")\n",
    "ax.fig.autofmt_xdate()"
   ]
  },
  {
   "cell_type": "code",
   "execution_count": 1604,
   "metadata": {},
   "outputs": [
    {
     "data": {
      "image/png": "[encoded data removed]",
      "text/plain": [
       "<Figure size 360x360 with 1 Axes>"
      ]
     },
     "metadata": {
      "needs_background": "light"
     },
     "output_type": "display_data"
    }
   ],
   "source": [
    "ax = sns.catplot(x='tranche_horaire',kind='count',data=data,orient=\"h\", label='fkff')\n",
    "ax.fig.autofmt_xdate()"
   ]
  },
  {
   "cell_type": "code",
   "execution_count": 1605,
   "metadata": {},
   "outputs": [
    {
     "data": {
      "image/png": "[encoded data removed]",
      "text/plain": [
       "<Figure size 360x360 with 1 Axes>"
      ]
     },
     "metadata": {
      "needs_background": "light"
     },
     "output_type": "display_data"
    }
   ],
   "source": [
    "ax = sns.catplot(x='age_vehicle',kind='count',data=data,orient=\"h\", label='fkff')\n",
    "ax.fig.autofmt_xdate()"
   ]
  },
  {
   "cell_type": "code",
   "execution_count": null,
   "metadata": {},
   "outputs": [],
   "source": []
  },
  {
   "cell_type": "code",
   "execution_count": 1606,
   "metadata": {},
   "outputs": [
    {
     "data": {
      "image/png": "[encoded data removed]",
      "text/plain": [
       "<Figure size 360x360 with 1 Axes>"
      ]
     },
     "metadata": {
      "needs_background": "light"
     },
     "output_type": "display_data"
    }
   ],
   "source": [
    "ax = sns.catplot(x='animaux_divagation',kind='count',data=data,orient=\"h\")\n",
    "ax.fig.autofmt_xdate()"
   ]
  },
  {
   "cell_type": "code",
   "execution_count": 1607,
   "metadata": {},
   "outputs": [],
   "source": [
    "#!pip install mca"
   ]
  },
  {
   "cell_type": "code",
   "execution_count": null,
   "metadata": {},
   "outputs": [],
   "source": []
  },
  {
   "cell_type": "code",
   "execution_count": 1608,
   "metadata": {},
   "outputs": [
    {
     "data": {
      "image/png": "[encoded data removed]",
      "text/plain": [
       "<Figure size 360x360 with 1 Axes>"
      ]
     },
     "metadata": {
      "needs_background": "light"
     },
     "output_type": "display_data"
    }
   ],
   "source": [
    "ax = sns.catplot(x='periode_accident',kind='count',data=data,orient=\"h\")\n",
    "ax.fig.autofmt_xdate()"
   ]
  },
  {
   "cell_type": "markdown",
   "metadata": {},
   "source": [
    "## > Analyse des Composantes Multiples (A.C.M)"
   ]
  },
  {
   "cell_type": "markdown",
   "metadata": {},
   "source": [
    "#### Construction d'une matrice X qui contient les variables pour l'analyse:"
   ]
  },
  {
   "cell_type": "code",
   "execution_count": 1609,
   "metadata": {},
   "outputs": [
    {
     "name": "stderr",
     "output_type": "stream",
     "text": [
      "C:\\Users\\FAITH\\Anaconda3\\lib\\site-packages\\ipykernel_launcher.py:3: FutureWarning: Method .as_matrix will be removed in a future version. Use .values instead.\n",
      "  This is separate from the ipykernel package so we can avoid doing imports until\n"
     ]
    }
   ],
   "source": [
    "X=data.loc[:,['nature_degats_causes_accident','nb_veh_impl','vehic_usage',\n",
    "              'vehic_type','analyse_responsabilite','age_permis','origine_permis',\n",
    "              'profession_conduc_r','sexe_conducteur','tranche_age','tranche_horaire','annee_','region']].as_matrix()"
   ]
  },
  {
   "cell_type": "code",
   "execution_count": 1610,
   "metadata": {},
   "outputs": [],
   "source": [
    "#Construction du modèle mca \n",
    "my_mca = MCA(row_labels=data.index.values, var_labels=data.columns)"
   ]
  },
  {
   "cell_type": "code",
   "execution_count": 1611,
   "metadata": {},
   "outputs": [
    {
     "data": {
      "text/plain": [
       "MCA(n_components=None,\n",
       "    row_labels=array([   0,    1,    2, ..., 6736, 6737, 6738], dtype=int64),\n",
       "    stats=True,\n",
       "    var_labels=Index(['nature_degats_causes_accident', 'nb_veh_impl',\n",
       "       'analyse_responsabilite', 'vehic_type', 'vehic_usage', 'visite_techni',\n",
       "       'age_vehicle', 'assurance2', 'assurance_auto', 'date_accident',\n",
       "       'jour_accident', 'jour_ferie', 'mois_accident', 'tranche_horaire',\n",
       "       'peri...\n",
       "       'etat_route', 'agglom_camp', 'cas_virage', 'intersection',\n",
       "       'regles_priorite', 'impact_luminosite_moment_acciden', 'luminosite',\n",
       "       'impact_conditions_atmospheriques', 'condit_atmosph',\n",
       "       'conduite_etat_ebriete', 'perte_controle_conducteur',\n",
       "       'Depassement_defectueux', 'stationnement_irregulier', 'exces_vitesse',\n",
       "       'non_resp_pann_signal', 'ralentisseurs', 'animaux_divagation',\n",
       "       'absence_signalisation', 'annee_'],\n",
       "      dtype='object'))"
      ]
     },
     "execution_count": 1611,
     "metadata": {},
     "output_type": "execute_result"
    }
   ],
   "source": [
    "my_mca.fit(X)"
   ]
  },
  {
   "cell_type": "code",
   "execution_count": 1612,
   "metadata": {},
   "outputs": [],
   "source": [
    "#nombre var. actives\n",
    "p = X.shape[1]-1\n",
    "#print(p)\n",
    "#calcul des fonctions de projection\n",
    "import pandas \n",
    "import numpy\n",
    "fproj = numpy.zeros(my_mca.col_coord_.shape)\n",
    "#pour chaque colonne\n",
    "for j in range(fproj.shape[1]):\n",
    "    fproj[:,j] = my_mca.col_coord_[:,j]/(p*numpy.sqrt(my_mca.eig_[0,j]))"
   ]
  },
  {
   "cell_type": "code",
   "execution_count": 1613,
   "metadata": {},
   "outputs": [
    {
     "data": {
      "image/png": "[encoded data removed]",
      "text/plain": [
       "<Figure size 1080x1080 with 1 Axes>"
      ]
     },
     "metadata": {
      "needs_background": "light"
     },
     "output_type": "display_data"
    }
   ],
   "source": [
    "# Mapping des points colonnes\n",
    "my_mca.mapping_col(num_x_axis=1, num_y_axis=2, figsize=(15, 15))"
   ]
  },
  {
   "cell_type": "markdown",
   "metadata": {},
   "source": [
    "## K-Modes Clustering"
   ]
  },
  {
   "cell_type": "markdown",
   "metadata": {},
   "source": [
    "<p> Description de l'algorithme de clustering k-modes:<p>\n",
    "    \n",
    "La technique k-modes clustering est une version améliorée de l'algorithme traditionnel des k moyens.\n",
    "Les principales extensions de l'algorithme des k-moyens à l'algorithme des k-modes sont la mesure de la distance et le processus de partitionnement qui sont expliqués ci-dessous :\n",
    "\n",
    "<p> Distance measure <p>\n",
    "    \n",
    "Étant donné un ensemble de données D, la distance entre deux objets X et Y, où X et Y sont décrits par N variables catégorielles, peut être calculée comme suit :\n",
    "    \n",
    "   $$ d(X, Y ) = \\sum \\delta(X_i, Y_i) $$\n",
    "\n",
    "ou\n",
    "\n",
    "\n",
    "$$ \\delta(X_i, Y_i) = \\begin{cases}\n",
    "   0 & \\quad \\mbox{si }   X_i = Y_i \\\\ \n",
    "   1 &  \\quad \\mbox{si }  X_i \\neq Y_i \n",
    "                      \\end{cases}\n",
    "$$\n",
    "\n",
    "\n",
    "Dans les équations ci-dessus, $X_i$ et $Y_i$ sont les valeurs de l'attribut i dans l'objet X et Y. Cette mesure de distance est souvent appelée mesure de dissimilarité de correspondance simple. Plus le nombre de différences entre les valeurs catégorielles de X et Y est élevé, plus les deux objets sont différents.\n",
    "\n",
    "\n",
    "<p> Procédure de l'algorithme k-modes :<p>\n",
    "    \n",
    "Afin de regrouper l'ensemble de données D en k clusters, l'algorithme de clustering k-modes exécute les étapes suivantes :\n",
    "<p> 1. Sélectionner initialement k objets aléatoires comme centres ou modes de regroupement.<p>\n",
    "<p> 2. Trouver la distance entre chaque objet et le centre de la grappe en utilisant la mesure de distance\n",
    "défini dans l'équation 1.<p>\n",
    "<p> 3. Assignez chaque objet au groupe dont la distance avec l'objet est minimale.<p>\n",
    "<p> 4. Sélectionner un nouveau centre ou mode pour chaque cluster et le comparer avec la valeur précédente <p>\n",
    "du centre ou du mode ; si les valeurs sont différentes, passez à l'étape 2.\n",
    "\n"
   ]
  },
  {
   "cell_type": "markdown",
   "metadata": {},
   "source": [
    "<p>Les données étudiées proviennent du Ministère de l'économie et des finances (MEF) par le biais d'une enquête menée en 2017 par sa cellule de l'Observatoire de la Qualité des Services Financiers (OQSF) qui travaille avec en collaboration avec des sociétés d'assurance. L'enquête consistait à répertorier, sur l'ensemble du territoire national, les circonstances des cas d'accident survenus entre 2014 et 2017. Les données collectées à l'aide d'un questionnaire portaient entre autres sur le lieu, la date, le jour, l'heure, le type de véhicule, l'usage du véhicule, etc. La base de données compte 6739 cas d’accident.<p>\n",
    "<p>Après le prétraitement des données, 11 variables ont été identifiées comme satisfaisantes pour la recherche. <p>"
   ]
  },
  {
   "cell_type": "code",
   "execution_count": 1614,
   "metadata": {},
   "outputs": [],
   "source": [
    "data=data.loc[:,['nature_degats_causes_accident','nb_veh_impl','vehic_usage',\n",
    "              'vehic_type','age_permis','age_vehicle',\n",
    "              'profession_conduc_r','tranche_age','tranche_horaire','annee_','region']]"
   ]
  },
  {
   "cell_type": "markdown",
   "metadata": {},
   "source": [
    "#### First we will keep a copy of data :"
   ]
  },
  {
   "cell_type": "code",
   "execution_count": 1615,
   "metadata": {},
   "outputs": [],
   "source": [
    "data_copy = data.copy()"
   ]
  },
  {
   "cell_type": "code",
   "execution_count": 1616,
   "metadata": {},
   "outputs": [
    {
     "data": {
      "text/html": [
       "<div>\n",
       "<style scoped>\n",
       "    .dataframe tbody tr th:only-of-type {\n",
       "        vertical-align: middle;\n",
       "    }\n",
       "\n",
       "    .dataframe tbody tr th {\n",
       "        vertical-align: top;\n",
       "    }\n",
       "\n",
       "    .dataframe thead th {\n",
       "        text-align: right;\n",
       "    }\n",
       "</style>\n",
       "<table border=\"1\" class=\"dataframe\">\n",
       "  <thead>\n",
       "    <tr style=\"text-align: right;\">\n",
       "      <th></th>\n",
       "      <th>nature_degats_causes_accident</th>\n",
       "      <th>nb_veh_impl</th>\n",
       "      <th>vehic_usage</th>\n",
       "      <th>vehic_type</th>\n",
       "      <th>age_permis</th>\n",
       "      <th>age_vehicle</th>\n",
       "      <th>profession_conduc_r</th>\n",
       "      <th>tranche_age</th>\n",
       "      <th>tranche_horaire</th>\n",
       "      <th>annee_</th>\n",
       "      <th>region</th>\n",
       "    </tr>\n",
       "  </thead>\n",
       "  <tbody>\n",
       "    <tr>\n",
       "      <td>0</td>\n",
       "      <td>1</td>\n",
       "      <td>1</td>\n",
       "      <td>1</td>\n",
       "      <td>2</td>\n",
       "      <td>4</td>\n",
       "      <td>0</td>\n",
       "      <td>2</td>\n",
       "      <td>1</td>\n",
       "      <td>1</td>\n",
       "      <td>3</td>\n",
       "      <td>0</td>\n",
       "    </tr>\n",
       "    <tr>\n",
       "      <td>1</td>\n",
       "      <td>1</td>\n",
       "      <td>1</td>\n",
       "      <td>1</td>\n",
       "      <td>3</td>\n",
       "      <td>4</td>\n",
       "      <td>4</td>\n",
       "      <td>2</td>\n",
       "      <td>2</td>\n",
       "      <td>2</td>\n",
       "      <td>3</td>\n",
       "      <td>0</td>\n",
       "    </tr>\n",
       "    <tr>\n",
       "      <td>2</td>\n",
       "      <td>1</td>\n",
       "      <td>1</td>\n",
       "      <td>1</td>\n",
       "      <td>2</td>\n",
       "      <td>4</td>\n",
       "      <td>0</td>\n",
       "      <td>2</td>\n",
       "      <td>2</td>\n",
       "      <td>1</td>\n",
       "      <td>3</td>\n",
       "      <td>0</td>\n",
       "    </tr>\n",
       "    <tr>\n",
       "      <td>3</td>\n",
       "      <td>1</td>\n",
       "      <td>1</td>\n",
       "      <td>4</td>\n",
       "      <td>0</td>\n",
       "      <td>4</td>\n",
       "      <td>2</td>\n",
       "      <td>13</td>\n",
       "      <td>1</td>\n",
       "      <td>3</td>\n",
       "      <td>3</td>\n",
       "      <td>0</td>\n",
       "    </tr>\n",
       "    <tr>\n",
       "      <td>4</td>\n",
       "      <td>1</td>\n",
       "      <td>1</td>\n",
       "      <td>1</td>\n",
       "      <td>2</td>\n",
       "      <td>1</td>\n",
       "      <td>0</td>\n",
       "      <td>2</td>\n",
       "      <td>2</td>\n",
       "      <td>1</td>\n",
       "      <td>3</td>\n",
       "      <td>0</td>\n",
       "    </tr>\n",
       "  </tbody>\n",
       "</table>\n",
       "</div>"
      ],
      "text/plain": [
       "   nature_degats_causes_accident  nb_veh_impl  vehic_usage  vehic_type  \\\n",
       "0                              1            1            1           2   \n",
       "1                              1            1            1           3   \n",
       "2                              1            1            1           2   \n",
       "3                              1            1            4           0   \n",
       "4                              1            1            1           2   \n",
       "\n",
       "   age_permis  age_vehicle  profession_conduc_r  tranche_age  tranche_horaire  \\\n",
       "0           4            0                    2            1                1   \n",
       "1           4            4                    2            2                2   \n",
       "2           4            0                    2            2                1   \n",
       "3           4            2                   13            1                3   \n",
       "4           1            0                    2            2                1   \n",
       "\n",
       "   annee_  region  \n",
       "0       3       0  \n",
       "1       3       0  \n",
       "2       3       0  \n",
       "3       3       0  \n",
       "4       3       0  "
      ]
     },
     "execution_count": 1616,
     "metadata": {},
     "output_type": "execute_result"
    }
   ],
   "source": [
    "from sklearn import preprocessing\n",
    "le = preprocessing.LabelEncoder()\n",
    "data = data.apply(le.fit_transform)\n",
    "data.head()"
   ]
  },
  {
   "cell_type": "code",
   "execution_count": 1617,
   "metadata": {},
   "outputs": [],
   "source": [
    "# Importing Libraries\n",
    "from kmodes.kmodes import KModes"
   ]
  },
  {
   "cell_type": "code",
   "execution_count": 1618,
   "metadata": {},
   "outputs": [],
   "source": [
    "#!pip install kmodes"
   ]
  },
  {
   "cell_type": "code",
   "execution_count": 1619,
   "metadata": {},
   "outputs": [
    {
     "name": "stdout",
     "output_type": "stream",
     "text": [
      "Init: initializing centroids\n",
      "Init: initializing clusters\n",
      "Starting iterations...\n",
      "Run 1, iteration: 1/100, moves: 1241, cost: 35001.0\n"
     ]
    }
   ],
   "source": [
    "km_cao = KModes(n_clusters=2, init = \"Huang\", n_init = 1, verbose=1)\n",
    "fitClusters_cao = km_cao.fit_predict(data)"
   ]
  },
  {
   "cell_type": "code",
   "execution_count": 1620,
   "metadata": {},
   "outputs": [
    {
     "data": {
      "text/plain": [
       "array([0, 0, 0, ..., 0, 0, 0], dtype=uint16)"
      ]
     },
     "execution_count": 1620,
     "metadata": {},
     "output_type": "execute_result"
    }
   ],
   "source": [
    "# Predicted Clusters\n",
    "fitClusters_cao"
   ]
  },
  {
   "cell_type": "code",
   "execution_count": 1621,
   "metadata": {},
   "outputs": [],
   "source": [
    "clusterCentroidsDf = pd.DataFrame(km_cao.cluster_centroids_)\n",
    "clusterCentroidsDf.columns = data.columns"
   ]
  },
  {
   "cell_type": "code",
   "execution_count": 1622,
   "metadata": {},
   "outputs": [
    {
     "data": {
      "text/html": [
       "<div>\n",
       "<style scoped>\n",
       "    .dataframe tbody tr th:only-of-type {\n",
       "        vertical-align: middle;\n",
       "    }\n",
       "\n",
       "    .dataframe tbody tr th {\n",
       "        vertical-align: top;\n",
       "    }\n",
       "\n",
       "    .dataframe thead th {\n",
       "        text-align: right;\n",
       "    }\n",
       "</style>\n",
       "<table border=\"1\" class=\"dataframe\">\n",
       "  <thead>\n",
       "    <tr style=\"text-align: right;\">\n",
       "      <th></th>\n",
       "      <th>nature_degats_causes_accident</th>\n",
       "      <th>nb_veh_impl</th>\n",
       "      <th>vehic_usage</th>\n",
       "      <th>vehic_type</th>\n",
       "      <th>age_permis</th>\n",
       "      <th>age_vehicle</th>\n",
       "      <th>profession_conduc_r</th>\n",
       "      <th>tranche_age</th>\n",
       "      <th>tranche_horaire</th>\n",
       "      <th>annee_</th>\n",
       "      <th>region</th>\n",
       "    </tr>\n",
       "  </thead>\n",
       "  <tbody>\n",
       "    <tr>\n",
       "      <td>0</td>\n",
       "      <td>1</td>\n",
       "      <td>1</td>\n",
       "      <td>4</td>\n",
       "      <td>0</td>\n",
       "      <td>4</td>\n",
       "      <td>0</td>\n",
       "      <td>2</td>\n",
       "      <td>1</td>\n",
       "      <td>1</td>\n",
       "      <td>2</td>\n",
       "      <td>0</td>\n",
       "    </tr>\n",
       "    <tr>\n",
       "      <td>1</td>\n",
       "      <td>1</td>\n",
       "      <td>1</td>\n",
       "      <td>3</td>\n",
       "      <td>1</td>\n",
       "      <td>2</td>\n",
       "      <td>0</td>\n",
       "      <td>2</td>\n",
       "      <td>1</td>\n",
       "      <td>2</td>\n",
       "      <td>2</td>\n",
       "      <td>0</td>\n",
       "    </tr>\n",
       "  </tbody>\n",
       "</table>\n",
       "</div>"
      ],
      "text/plain": [
       "   nature_degats_causes_accident  nb_veh_impl  vehic_usage  vehic_type  \\\n",
       "0                              1            1            4           0   \n",
       "1                              1            1            3           1   \n",
       "\n",
       "   age_permis  age_vehicle  profession_conduc_r  tranche_age  tranche_horaire  \\\n",
       "0           4            0                    2            1                1   \n",
       "1           2            0                    2            1                2   \n",
       "\n",
       "   annee_  region  \n",
       "0       2       0  \n",
       "1       2       0  "
      ]
     },
     "execution_count": 1622,
     "metadata": {},
     "output_type": "execute_result"
    }
   ],
   "source": [
    "# Mode of the clusters\n",
    "clusterCentroidsDf"
   ]
  },
  {
   "cell_type": "code",
   "execution_count": null,
   "metadata": {},
   "outputs": [],
   "source": []
  },
  {
   "cell_type": "markdown",
   "metadata": {},
   "source": [
    "### Choosing K by comparing Cost against each K"
   ]
  },
  {
   "cell_type": "code",
   "execution_count": 1623,
   "metadata": {},
   "outputs": [
    {
     "name": "stdout",
     "output_type": "stream",
     "text": [
      "Init: initializing centroids\n",
      "Init: initializing clusters\n",
      "Starting iterations...\n",
      "Run 1, iteration: 1/100, moves: 0, cost: 38032.0\n",
      "Init: initializing centroids\n",
      "Init: initializing clusters\n",
      "Starting iterations...\n",
      "Run 1, iteration: 1/100, moves: 434, cost: 34269.0\n",
      "Init: initializing centroids\n",
      "Init: initializing clusters\n",
      "Starting iterations...\n",
      "Run 1, iteration: 1/100, moves: 863, cost: 32474.0\n",
      "Run 1, iteration: 2/100, moves: 271, cost: 32474.0\n",
      "Init: initializing centroids\n",
      "Init: initializing clusters\n",
      "Starting iterations...\n",
      "Run 1, iteration: 1/100, moves: 884, cost: 31441.0\n",
      "Run 1, iteration: 2/100, moves: 213, cost: 31441.0\n"
     ]
    }
   ],
   "source": [
    "cost = []\n",
    "for num_clusters in list(range(1,5)):\n",
    "    kmode = KModes(n_clusters=num_clusters, init = \"Cao\", n_init = 1, verbose=1)\n",
    "    kmode.fit_predict(data)\n",
    "    cost.append(kmode.cost_)"
   ]
  },
  {
   "cell_type": "code",
   "execution_count": 1624,
   "metadata": {},
   "outputs": [
    {
     "data": {
      "text/plain": [
       "[<matplotlib.lines.Line2D at 0x1386efa288>]"
      ]
     },
     "execution_count": 1624,
     "metadata": {},
     "output_type": "execute_result"
    },
    {
     "data": {
      "image/png": "[encoded data removed]",
      "text/plain": [
       "<Figure size 432x288 with 1 Axes>"
      ]
     },
     "metadata": {
      "needs_background": "light"
     },
     "output_type": "display_data"
    }
   ],
   "source": [
    "y = np.array([i for i in range(1,5,1)])\n",
    "plt.plot(y,cost)"
   ]
  },
  {
   "cell_type": "markdown",
   "metadata": {},
   "source": [
    "### Choosing K=3"
   ]
  },
  {
   "cell_type": "code",
   "execution_count": 1625,
   "metadata": {},
   "outputs": [
    {
     "name": "stdout",
     "output_type": "stream",
     "text": [
      "Init: initializing centroids\n",
      "Init: initializing clusters\n",
      "Starting iterations...\n",
      "Run 1, iteration: 1/100, moves: 863, cost: 32474.0\n",
      "Run 1, iteration: 2/100, moves: 271, cost: 32474.0\n"
     ]
    }
   ],
   "source": [
    "km_cao = KModes(n_clusters=3, init = \"Cao\", n_init = 1, verbose=1)\n",
    "fitClusters_cao = km_cao.fit_predict(data)"
   ]
  },
  {
   "cell_type": "code",
   "execution_count": null,
   "metadata": {},
   "outputs": [],
   "source": []
  },
  {
   "cell_type": "code",
   "execution_count": 1626,
   "metadata": {},
   "outputs": [
    {
     "data": {
      "text/plain": [
       "array([0, 2, 0, ..., 0, 0, 1], dtype=uint16)"
      ]
     },
     "execution_count": 1626,
     "metadata": {},
     "output_type": "execute_result"
    }
   ],
   "source": [
    "fitClusters_cao"
   ]
  },
  {
   "cell_type": "code",
   "execution_count": 1627,
   "metadata": {},
   "outputs": [],
   "source": [
    "#Combining the predicted clusters with the original DF.\n",
    "data = data_copy.reset_index()"
   ]
  },
  {
   "cell_type": "code",
   "execution_count": 1628,
   "metadata": {},
   "outputs": [],
   "source": [
    "clustersDf = pd.DataFrame(fitClusters_cao)\n",
    "clustersDf.columns = ['cluster_predicted']\n",
    "combinedDf = pd.concat([data, clustersDf], axis = 1).reset_index()\n",
    "combinedDf = combinedDf.drop(['index', 'level_0'], axis = 1)"
   ]
  },
  {
   "cell_type": "code",
   "execution_count": 1629,
   "metadata": {},
   "outputs": [
    {
     "data": {
      "text/html": [
       "<div>\n",
       "<style scoped>\n",
       "    .dataframe tbody tr th:only-of-type {\n",
       "        vertical-align: middle;\n",
       "    }\n",
       "\n",
       "    .dataframe tbody tr th {\n",
       "        vertical-align: top;\n",
       "    }\n",
       "\n",
       "    .dataframe thead th {\n",
       "        text-align: right;\n",
       "    }\n",
       "</style>\n",
       "<table border=\"1\" class=\"dataframe\">\n",
       "  <thead>\n",
       "    <tr style=\"text-align: right;\">\n",
       "      <th></th>\n",
       "      <th>nature_degats_causes_accident</th>\n",
       "      <th>nb_veh_impl</th>\n",
       "      <th>vehic_usage</th>\n",
       "      <th>vehic_type</th>\n",
       "      <th>age_permis</th>\n",
       "      <th>age_vehicle</th>\n",
       "      <th>profession_conduc_r</th>\n",
       "      <th>tranche_age</th>\n",
       "      <th>tranche_horaire</th>\n",
       "      <th>annee_</th>\n",
       "      <th>region</th>\n",
       "      <th>cluster_predicted</th>\n",
       "    </tr>\n",
       "  </thead>\n",
       "  <tbody>\n",
       "    <tr>\n",
       "      <td>0</td>\n",
       "      <td>Materielle</td>\n",
       "      <td>2 vehicules</td>\n",
       "      <td>TPC</td>\n",
       "      <td>Camion</td>\n",
       "      <td>Plus de 10ans</td>\n",
       "      <td>+ 20ans</td>\n",
       "      <td>Chauffeur</td>\n",
       "      <td>25-34 ans</td>\n",
       "      <td>12 à 18h</td>\n",
       "      <td>2017_</td>\n",
       "      <td>Dakar</td>\n",
       "      <td>0</td>\n",
       "    </tr>\n",
       "    <tr>\n",
       "      <td>1</td>\n",
       "      <td>Materielle</td>\n",
       "      <td>2 vehicules</td>\n",
       "      <td>TPC</td>\n",
       "      <td>Camionnette</td>\n",
       "      <td>Plus de 10ans</td>\n",
       "      <td>15-20ans</td>\n",
       "      <td>Chauffeur</td>\n",
       "      <td>35-44 ans</td>\n",
       "      <td>18 à 24h</td>\n",
       "      <td>2017_</td>\n",
       "      <td>Dakar</td>\n",
       "      <td>2</td>\n",
       "    </tr>\n",
       "    <tr>\n",
       "      <td>2</td>\n",
       "      <td>Materielle</td>\n",
       "      <td>2 vehicules</td>\n",
       "      <td>TPC</td>\n",
       "      <td>Camion</td>\n",
       "      <td>Plus de 10ans</td>\n",
       "      <td>+ 20ans</td>\n",
       "      <td>Chauffeur</td>\n",
       "      <td>35-44 ans</td>\n",
       "      <td>12 à 18h</td>\n",
       "      <td>2017_</td>\n",
       "      <td>Dakar</td>\n",
       "      <td>0</td>\n",
       "    </tr>\n",
       "    <tr>\n",
       "      <td>3</td>\n",
       "      <td>Materielle</td>\n",
       "      <td>2 vehicules</td>\n",
       "      <td>VP</td>\n",
       "      <td>Berline</td>\n",
       "      <td>Plus de 10ans</td>\n",
       "      <td>05-10ans</td>\n",
       "      <td>cadre superieur</td>\n",
       "      <td>25-34 ans</td>\n",
       "      <td>6 à 12h</td>\n",
       "      <td>2017_</td>\n",
       "      <td>Dakar</td>\n",
       "      <td>0</td>\n",
       "    </tr>\n",
       "    <tr>\n",
       "      <td>4</td>\n",
       "      <td>Materielle</td>\n",
       "      <td>2 vehicules</td>\n",
       "      <td>TPC</td>\n",
       "      <td>Camion</td>\n",
       "      <td>2 à 5ans</td>\n",
       "      <td>+ 20ans</td>\n",
       "      <td>Chauffeur</td>\n",
       "      <td>35-44 ans</td>\n",
       "      <td>12 à 18h</td>\n",
       "      <td>2017_</td>\n",
       "      <td>Dakar</td>\n",
       "      <td>2</td>\n",
       "    </tr>\n",
       "  </tbody>\n",
       "</table>\n",
       "</div>"
      ],
      "text/plain": [
       "  nature_degats_causes_accident  nb_veh_impl vehic_usage   vehic_type  \\\n",
       "0                    Materielle  2 vehicules         TPC       Camion   \n",
       "1                    Materielle  2 vehicules         TPC  Camionnette   \n",
       "2                    Materielle  2 vehicules         TPC       Camion   \n",
       "3                    Materielle  2 vehicules          VP      Berline   \n",
       "4                    Materielle  2 vehicules         TPC       Camion   \n",
       "\n",
       "      age_permis age_vehicle profession_conduc_r tranche_age tranche_horaire  \\\n",
       "0  Plus de 10ans     + 20ans           Chauffeur   25-34 ans        12 à 18h   \n",
       "1  Plus de 10ans    15-20ans           Chauffeur   35-44 ans        18 à 24h   \n",
       "2  Plus de 10ans     + 20ans           Chauffeur   35-44 ans        12 à 18h   \n",
       "3  Plus de 10ans    05-10ans     cadre superieur   25-34 ans         6 à 12h   \n",
       "4       2 à 5ans     + 20ans           Chauffeur   35-44 ans        12 à 18h   \n",
       "\n",
       "  annee_ region  cluster_predicted  \n",
       "0  2017_  Dakar                  0  \n",
       "1  2017_  Dakar                  2  \n",
       "2  2017_  Dakar                  0  \n",
       "3  2017_  Dakar                  0  \n",
       "4  2017_  Dakar                  2  "
      ]
     },
     "execution_count": 1629,
     "metadata": {},
     "output_type": "execute_result"
    }
   ],
   "source": [
    "combinedDf.head()"
   ]
  },
  {
   "cell_type": "code",
   "execution_count": 1630,
   "metadata": {},
   "outputs": [
    {
     "data": {
      "text/plain": [
       "0       0\n",
       "1       2\n",
       "2       0\n",
       "3       0\n",
       "4       2\n",
       "       ..\n",
       "6734    1\n",
       "6735    1\n",
       "6736    0\n",
       "6737    0\n",
       "6738    1\n",
       "Name: cluster_predicted, Length: 6739, dtype: uint16"
      ]
     },
     "execution_count": 1630,
     "metadata": {},
     "output_type": "execute_result"
    }
   ],
   "source": [
    "combinedDf['cluster_predicted']"
   ]
  },
  {
   "cell_type": "code",
   "execution_count": 1631,
   "metadata": {},
   "outputs": [
    {
     "name": "stderr",
     "output_type": "stream",
     "text": [
      "C:\\Users\\FAITH\\Anaconda3\\lib\\site-packages\\pandas\\core\\frame.py:4102: SettingWithCopyWarning: \n",
      "A value is trying to be set on a copy of a slice from a DataFrame\n",
      "\n",
      "See the caveats in the documentation: http://pandas.pydata.org/pandas-docs/stable/user_guide/indexing.html#returning-a-view-versus-a-copy\n",
      "  errors=errors,\n"
     ]
    }
   ],
   "source": [
    "#Cluster Identification\n",
    "cluster_0 = combinedDf[combinedDf['cluster_predicted'] == 0]\n",
    "cluster_1 = combinedDf[combinedDf['cluster_predicted'] == 1]\n",
    "cluster_2 = combinedDf[combinedDf['cluster_predicted'] == 2]\n",
    "cluster_0.drop(['cluster_predicted'], axis='columns', inplace=True, index=None)\n",
    "cluster_1.drop(['cluster_predicted'], axis='columns', inplace=True, index=None)\n",
    "cluster_2.drop(['cluster_predicted'], axis='columns', inplace=True, index=None)"
   ]
  },
  {
   "cell_type": "code",
   "execution_count": 1632,
   "metadata": {},
   "outputs": [
    {
     "data": {
      "image/png": "[encoded data removed]",
      "text/plain": [
       "<Figure size 1080x360 with 1 Axes>"
      ]
     },
     "metadata": {
      "needs_background": "light"
     },
     "output_type": "display_data"
    }
   ],
   "source": [
    "plt.subplots(figsize = (15,5))\n",
    "sns.countplot(x=combinedDf['annee_'],order=combinedDf['annee_'].value_counts().index,hue=combinedDf['cluster_predicted'])\n",
    "plt.show()"
   ]
  },
  {
   "cell_type": "code",
   "execution_count": 1633,
   "metadata": {},
   "outputs": [
    {
     "data": {
      "text/html": [
       "<div>\n",
       "<style scoped>\n",
       "    .dataframe tbody tr th:only-of-type {\n",
       "        vertical-align: middle;\n",
       "    }\n",
       "\n",
       "    .dataframe tbody tr th {\n",
       "        vertical-align: top;\n",
       "    }\n",
       "\n",
       "    .dataframe thead th {\n",
       "        text-align: right;\n",
       "    }\n",
       "</style>\n",
       "<table border=\"1\" class=\"dataframe\">\n",
       "  <thead>\n",
       "    <tr style=\"text-align: right;\">\n",
       "      <th></th>\n",
       "      <th>nature_degats_causes_accident</th>\n",
       "      <th>nb_veh_impl</th>\n",
       "      <th>vehic_usage</th>\n",
       "      <th>vehic_type</th>\n",
       "      <th>age_permis</th>\n",
       "      <th>age_vehicle</th>\n",
       "      <th>profession_conduc_r</th>\n",
       "      <th>tranche_age</th>\n",
       "      <th>tranche_horaire</th>\n",
       "      <th>annee_</th>\n",
       "      <th>region</th>\n",
       "    </tr>\n",
       "  </thead>\n",
       "  <tbody>\n",
       "    <tr>\n",
       "      <td>0</td>\n",
       "      <td>Materielle</td>\n",
       "      <td>2 vehicules</td>\n",
       "      <td>TPC</td>\n",
       "      <td>Camion</td>\n",
       "      <td>Plus de 10ans</td>\n",
       "      <td>+ 20ans</td>\n",
       "      <td>Chauffeur</td>\n",
       "      <td>25-34 ans</td>\n",
       "      <td>12 à 18h</td>\n",
       "      <td>2017_</td>\n",
       "      <td>Dakar</td>\n",
       "    </tr>\n",
       "    <tr>\n",
       "      <td>2</td>\n",
       "      <td>Materielle</td>\n",
       "      <td>2 vehicules</td>\n",
       "      <td>TPC</td>\n",
       "      <td>Camion</td>\n",
       "      <td>Plus de 10ans</td>\n",
       "      <td>+ 20ans</td>\n",
       "      <td>Chauffeur</td>\n",
       "      <td>35-44 ans</td>\n",
       "      <td>12 à 18h</td>\n",
       "      <td>2017_</td>\n",
       "      <td>Dakar</td>\n",
       "    </tr>\n",
       "    <tr>\n",
       "      <td>3</td>\n",
       "      <td>Materielle</td>\n",
       "      <td>2 vehicules</td>\n",
       "      <td>VP</td>\n",
       "      <td>Berline</td>\n",
       "      <td>Plus de 10ans</td>\n",
       "      <td>05-10ans</td>\n",
       "      <td>cadre superieur</td>\n",
       "      <td>25-34 ans</td>\n",
       "      <td>6 à 12h</td>\n",
       "      <td>2017_</td>\n",
       "      <td>Dakar</td>\n",
       "    </tr>\n",
       "    <tr>\n",
       "      <td>5</td>\n",
       "      <td>Materielle</td>\n",
       "      <td>2 vehicules</td>\n",
       "      <td>VP</td>\n",
       "      <td>Berline</td>\n",
       "      <td>Plus de 10ans</td>\n",
       "      <td>+ 20ans</td>\n",
       "      <td>Chauffeur</td>\n",
       "      <td>35-44 ans</td>\n",
       "      <td>12 à 18h</td>\n",
       "      <td>2017_</td>\n",
       "      <td>Dakar</td>\n",
       "    </tr>\n",
       "    <tr>\n",
       "      <td>6</td>\n",
       "      <td>Materielle</td>\n",
       "      <td>2 vehicules</td>\n",
       "      <td>TPM</td>\n",
       "      <td>Camion</td>\n",
       "      <td>2 à 5ans</td>\n",
       "      <td>00-05ans</td>\n",
       "      <td>Chauffeur</td>\n",
       "      <td>25-34 ans</td>\n",
       "      <td>12 à 18h</td>\n",
       "      <td>2017_</td>\n",
       "      <td>Dakar</td>\n",
       "    </tr>\n",
       "  </tbody>\n",
       "</table>\n",
       "</div>"
      ],
      "text/plain": [
       "  nature_degats_causes_accident  nb_veh_impl vehic_usage vehic_type  \\\n",
       "0                    Materielle  2 vehicules         TPC     Camion   \n",
       "2                    Materielle  2 vehicules         TPC     Camion   \n",
       "3                    Materielle  2 vehicules          VP    Berline   \n",
       "5                    Materielle  2 vehicules          VP    Berline   \n",
       "6                    Materielle  2 vehicules         TPM     Camion   \n",
       "\n",
       "      age_permis age_vehicle profession_conduc_r tranche_age tranche_horaire  \\\n",
       "0  Plus de 10ans     + 20ans           Chauffeur   25-34 ans        12 à 18h   \n",
       "2  Plus de 10ans     + 20ans           Chauffeur   35-44 ans        12 à 18h   \n",
       "3  Plus de 10ans    05-10ans     cadre superieur   25-34 ans         6 à 12h   \n",
       "5  Plus de 10ans     + 20ans           Chauffeur   35-44 ans        12 à 18h   \n",
       "6       2 à 5ans    00-05ans           Chauffeur   25-34 ans        12 à 18h   \n",
       "\n",
       "  annee_ region  \n",
       "0  2017_  Dakar  \n",
       "2  2017_  Dakar  \n",
       "3  2017_  Dakar  \n",
       "5  2017_  Dakar  \n",
       "6  2017_  Dakar  "
      ]
     },
     "execution_count": 1633,
     "metadata": {},
     "output_type": "execute_result"
    }
   ],
   "source": [
    "cluster_0.head()"
   ]
  },
  {
   "cell_type": "code",
   "execution_count": 1634,
   "metadata": {},
   "outputs": [
    {
     "data": {
      "text/html": [
       "<div>\n",
       "<style scoped>\n",
       "    .dataframe tbody tr th:only-of-type {\n",
       "        vertical-align: middle;\n",
       "    }\n",
       "\n",
       "    .dataframe tbody tr th {\n",
       "        vertical-align: top;\n",
       "    }\n",
       "\n",
       "    .dataframe thead th {\n",
       "        text-align: right;\n",
       "    }\n",
       "</style>\n",
       "<table border=\"1\" class=\"dataframe\">\n",
       "  <thead>\n",
       "    <tr style=\"text-align: right;\">\n",
       "      <th></th>\n",
       "      <th>nature_degats_causes_accident</th>\n",
       "      <th>nb_veh_impl</th>\n",
       "      <th>vehic_usage</th>\n",
       "      <th>vehic_type</th>\n",
       "      <th>age_permis</th>\n",
       "      <th>age_vehicle</th>\n",
       "      <th>profession_conduc_r</th>\n",
       "      <th>tranche_age</th>\n",
       "      <th>tranche_horaire</th>\n",
       "      <th>annee_</th>\n",
       "      <th>region</th>\n",
       "    </tr>\n",
       "  </thead>\n",
       "  <tbody>\n",
       "    <tr>\n",
       "      <td>27</td>\n",
       "      <td>Materielle</td>\n",
       "      <td>2 vehicules</td>\n",
       "      <td>TPV</td>\n",
       "      <td>Bus</td>\n",
       "      <td>Plus de 10ans</td>\n",
       "      <td>05-10ans</td>\n",
       "      <td>Chauffeur</td>\n",
       "      <td>35-44 ans</td>\n",
       "      <td>18 à 24h</td>\n",
       "      <td>2014_</td>\n",
       "      <td>Kaolack</td>\n",
       "    </tr>\n",
       "    <tr>\n",
       "      <td>32</td>\n",
       "      <td>Materielle</td>\n",
       "      <td>2 vehicules</td>\n",
       "      <td>TPV</td>\n",
       "      <td>Berline</td>\n",
       "      <td>5 à 10ans</td>\n",
       "      <td>+ 20ans</td>\n",
       "      <td>Chauffeur</td>\n",
       "      <td>55-64 ans</td>\n",
       "      <td>6 à 12h</td>\n",
       "      <td>2014_</td>\n",
       "      <td>Kaolack</td>\n",
       "    </tr>\n",
       "    <tr>\n",
       "      <td>36</td>\n",
       "      <td>Corporelle</td>\n",
       "      <td>1 vehicule</td>\n",
       "      <td>TPV</td>\n",
       "      <td>Bus</td>\n",
       "      <td>Plus de 10ans</td>\n",
       "      <td>00-05ans</td>\n",
       "      <td>Chauffeur</td>\n",
       "      <td>25-34 ans</td>\n",
       "      <td>12 à 18h</td>\n",
       "      <td>2017_</td>\n",
       "      <td>Dakar</td>\n",
       "    </tr>\n",
       "    <tr>\n",
       "      <td>37</td>\n",
       "      <td>Corporelle</td>\n",
       "      <td>1 vehicule</td>\n",
       "      <td>TPV</td>\n",
       "      <td>Bus</td>\n",
       "      <td>Plus de 10ans</td>\n",
       "      <td>+ 20ans</td>\n",
       "      <td>Chauffeur</td>\n",
       "      <td>25-34 ans</td>\n",
       "      <td>18 à 24h</td>\n",
       "      <td>2017_</td>\n",
       "      <td>Dakar</td>\n",
       "    </tr>\n",
       "    <tr>\n",
       "      <td>38</td>\n",
       "      <td>Corporelle</td>\n",
       "      <td>1 vehicule</td>\n",
       "      <td>TPV</td>\n",
       "      <td>Bus</td>\n",
       "      <td>2 à 5ans</td>\n",
       "      <td>00-05ans</td>\n",
       "      <td>Chauffeur</td>\n",
       "      <td>25-34 ans</td>\n",
       "      <td>18 à 24h</td>\n",
       "      <td>2017_</td>\n",
       "      <td>Dakar</td>\n",
       "    </tr>\n",
       "  </tbody>\n",
       "</table>\n",
       "</div>"
      ],
      "text/plain": [
       "   nature_degats_causes_accident  nb_veh_impl vehic_usage vehic_type  \\\n",
       "27                    Materielle  2 vehicules         TPV        Bus   \n",
       "32                    Materielle  2 vehicules         TPV    Berline   \n",
       "36                    Corporelle   1 vehicule         TPV        Bus   \n",
       "37                    Corporelle   1 vehicule         TPV        Bus   \n",
       "38                    Corporelle   1 vehicule         TPV        Bus   \n",
       "\n",
       "       age_permis age_vehicle profession_conduc_r tranche_age tranche_horaire  \\\n",
       "27  Plus de 10ans    05-10ans           Chauffeur   35-44 ans        18 à 24h   \n",
       "32      5 à 10ans     + 20ans           Chauffeur   55-64 ans         6 à 12h   \n",
       "36  Plus de 10ans    00-05ans           Chauffeur   25-34 ans        12 à 18h   \n",
       "37  Plus de 10ans     + 20ans           Chauffeur   25-34 ans        18 à 24h   \n",
       "38       2 à 5ans    00-05ans           Chauffeur   25-34 ans        18 à 24h   \n",
       "\n",
       "   annee_   region  \n",
       "27  2014_  Kaolack  \n",
       "32  2014_  Kaolack  \n",
       "36  2017_    Dakar  \n",
       "37  2017_    Dakar  \n",
       "38  2017_    Dakar  "
      ]
     },
     "execution_count": 1634,
     "metadata": {},
     "output_type": "execute_result"
    }
   ],
   "source": [
    "cluster_1.head()"
   ]
  },
  {
   "cell_type": "code",
   "execution_count": 1635,
   "metadata": {},
   "outputs": [
    {
     "data": {
      "text/html": [
       "<div>\n",
       "<style scoped>\n",
       "    .dataframe tbody tr th:only-of-type {\n",
       "        vertical-align: middle;\n",
       "    }\n",
       "\n",
       "    .dataframe tbody tr th {\n",
       "        vertical-align: top;\n",
       "    }\n",
       "\n",
       "    .dataframe thead th {\n",
       "        text-align: right;\n",
       "    }\n",
       "</style>\n",
       "<table border=\"1\" class=\"dataframe\">\n",
       "  <thead>\n",
       "    <tr style=\"text-align: right;\">\n",
       "      <th></th>\n",
       "      <th>nature_degats_causes_accident</th>\n",
       "      <th>nb_veh_impl</th>\n",
       "      <th>vehic_usage</th>\n",
       "      <th>vehic_type</th>\n",
       "      <th>age_permis</th>\n",
       "      <th>age_vehicle</th>\n",
       "      <th>profession_conduc_r</th>\n",
       "      <th>tranche_age</th>\n",
       "      <th>tranche_horaire</th>\n",
       "      <th>annee_</th>\n",
       "      <th>region</th>\n",
       "    </tr>\n",
       "  </thead>\n",
       "  <tbody>\n",
       "    <tr>\n",
       "      <td>1</td>\n",
       "      <td>Materielle</td>\n",
       "      <td>2 vehicules</td>\n",
       "      <td>TPC</td>\n",
       "      <td>Camionnette</td>\n",
       "      <td>Plus de 10ans</td>\n",
       "      <td>15-20ans</td>\n",
       "      <td>Chauffeur</td>\n",
       "      <td>35-44 ans</td>\n",
       "      <td>18 à 24h</td>\n",
       "      <td>2017_</td>\n",
       "      <td>Dakar</td>\n",
       "    </tr>\n",
       "    <tr>\n",
       "      <td>4</td>\n",
       "      <td>Materielle</td>\n",
       "      <td>2 vehicules</td>\n",
       "      <td>TPC</td>\n",
       "      <td>Camion</td>\n",
       "      <td>2 à 5ans</td>\n",
       "      <td>+ 20ans</td>\n",
       "      <td>Chauffeur</td>\n",
       "      <td>35-44 ans</td>\n",
       "      <td>12 à 18h</td>\n",
       "      <td>2017_</td>\n",
       "      <td>Dakar</td>\n",
       "    </tr>\n",
       "    <tr>\n",
       "      <td>7</td>\n",
       "      <td>Materielle</td>\n",
       "      <td>2 vehicules</td>\n",
       "      <td>TPM</td>\n",
       "      <td>Camion</td>\n",
       "      <td>Plus de 10ans</td>\n",
       "      <td>+ 20ans</td>\n",
       "      <td>Chauffeur</td>\n",
       "      <td>25-34 ans</td>\n",
       "      <td>18 à 24h</td>\n",
       "      <td>2017_</td>\n",
       "      <td>Dakar</td>\n",
       "    </tr>\n",
       "    <tr>\n",
       "      <td>14</td>\n",
       "      <td>Materielle</td>\n",
       "      <td>2 vehicules</td>\n",
       "      <td>TPC</td>\n",
       "      <td>Camion</td>\n",
       "      <td>1 à 2 ans</td>\n",
       "      <td>15-20ans</td>\n",
       "      <td>Chauffeur</td>\n",
       "      <td>45-54 ans</td>\n",
       "      <td>6 à 12h</td>\n",
       "      <td>2017_</td>\n",
       "      <td>Dakar</td>\n",
       "    </tr>\n",
       "    <tr>\n",
       "      <td>16</td>\n",
       "      <td>Materielle</td>\n",
       "      <td>2 vehicules</td>\n",
       "      <td>TPV</td>\n",
       "      <td>Bus</td>\n",
       "      <td>5 à 10ans</td>\n",
       "      <td>05-10ans</td>\n",
       "      <td>Chauffeur</td>\n",
       "      <td>35-44 ans</td>\n",
       "      <td>18 à 24h</td>\n",
       "      <td>2017_</td>\n",
       "      <td>Dakar</td>\n",
       "    </tr>\n",
       "  </tbody>\n",
       "</table>\n",
       "</div>"
      ],
      "text/plain": [
       "   nature_degats_causes_accident  nb_veh_impl vehic_usage   vehic_type  \\\n",
       "1                     Materielle  2 vehicules         TPC  Camionnette   \n",
       "4                     Materielle  2 vehicules         TPC       Camion   \n",
       "7                     Materielle  2 vehicules         TPM       Camion   \n",
       "14                    Materielle  2 vehicules         TPC       Camion   \n",
       "16                    Materielle  2 vehicules         TPV          Bus   \n",
       "\n",
       "       age_permis age_vehicle profession_conduc_r tranche_age tranche_horaire  \\\n",
       "1   Plus de 10ans    15-20ans           Chauffeur   35-44 ans        18 à 24h   \n",
       "4        2 à 5ans     + 20ans           Chauffeur   35-44 ans        12 à 18h   \n",
       "7   Plus de 10ans     + 20ans           Chauffeur   25-34 ans        18 à 24h   \n",
       "14      1 à 2 ans    15-20ans           Chauffeur   45-54 ans         6 à 12h   \n",
       "16      5 à 10ans    05-10ans           Chauffeur   35-44 ans        18 à 24h   \n",
       "\n",
       "   annee_ region  \n",
       "1   2017_  Dakar  \n",
       "4   2017_  Dakar  \n",
       "7   2017_  Dakar  \n",
       "14  2017_  Dakar  \n",
       "16  2017_  Dakar  "
      ]
     },
     "execution_count": 1635,
     "metadata": {},
     "output_type": "execute_result"
    }
   ],
   "source": [
    "cluster_2.head()"
   ]
  },
  {
   "cell_type": "code",
   "execution_count": 1636,
   "metadata": {},
   "outputs": [
    {
     "data": {
      "text/plain": [
       "(4162, 11)"
      ]
     },
     "execution_count": 1636,
     "metadata": {},
     "output_type": "execute_result"
    }
   ],
   "source": [
    "cluster_0.shape"
   ]
  },
  {
   "cell_type": "code",
   "execution_count": 1637,
   "metadata": {},
   "outputs": [
    {
     "data": {
      "text/plain": [
       "(1512, 11)"
      ]
     },
     "execution_count": 1637,
     "metadata": {},
     "output_type": "execute_result"
    }
   ],
   "source": [
    "cluster_1.shape"
   ]
  },
  {
   "cell_type": "code",
   "execution_count": 1638,
   "metadata": {},
   "outputs": [
    {
     "data": {
      "text/plain": [
       "(1065, 11)"
      ]
     },
     "execution_count": 1638,
     "metadata": {},
     "output_type": "execute_result"
    }
   ],
   "source": [
    "cluster_2.shape"
   ]
  },
  {
   "cell_type": "markdown",
   "metadata": {},
   "source": [
    "## A ssociation rules mining: Apriori Algorithm in each cluster"
   ]
  },
  {
   "cell_type": "markdown",
   "metadata": {},
   "source": [
    "L'extraction de règles d'association est une technique d'exploration de données très populaire qui extrait des relations intéressantes et cachées entre divers attributs dans un grand ensemble de données. L'extraction de règles d'association produit un ensemble de règles qui définissent les modèles sous-jacents dans l'ensemble de données.\n",
    "L'associativité de deux caractéristiques d'un accident est déterminée par la fréquence de leur apparition simultanée dans l'ensemble de données. Une règle A → B indique que si A se produit, alors B se produira également.\n"
   ]
  },
  {
   "cell_type": "markdown",
   "metadata": {},
   "source": [
    "<p> Mesures d'évaluation des règles <p>\n",
    "Une règle d'association est considérée comme une règle forte si elle satisfait au seuil minimum critères, c'est-à-dire la confiance et le support. Un seuil minimum S d'une règle A → B indique qu'en x % de toutes les transactions A et B ensemble se produit et qu'il peut être calculé par: $$ Support = P(A \\cap B) $$"
   ]
  },
  {
   "cell_type": "markdown",
   "metadata": {},
   "source": [
    "Considérant qu'un intervalle de confiance C d'une règle indique qu'en C % de toutes les transactions lorsque A se produit alors B se produit également et il peut être calculé par: $$Confidence = P(A|B)=\\frac{P(A \\cap B)}{P(A)}$$"
   ]
  },
  {
   "cell_type": "markdown",
   "metadata": {},
   "source": [
    "Lift est une autre mesure d'évaluation d'une règle, qui peut être calculée par: $$lift=\\frac{P(A \\cap B)}{P(A)P(B)}$$"
   ]
  },
  {
   "cell_type": "markdown",
   "metadata": {},
   "source": [
    "Une valeur supérieure à 1 pour les mesures de lift indique que l'apparition de A et B ensemble est supérieure à attendu alors qu'une valeur inférieure à 1 indique l'inverse du concept. On considère donc qu'une règle aussi forte si elle a une valeur supérieure à 1 pour le paramètre de lift."
   ]
  },
  {
   "cell_type": "markdown",
   "metadata": {},
   "source": [
    "Apriori que nous allons utiliser exige que notre ensemble de données se présente sous la forme de listes, où l'ensemble de données est une grande liste et chaque transaction dans l'ensemble de données est une liste intérieure dans la grande liste extérieure. Actuellement, nous disposons de données sous la forme data frame pandas. Pour convertir les données sur les pandas en une liste pour chaque cluster, exécutons le script suivant :"
   ]
  },
  {
   "cell_type": "code",
   "execution_count": 1639,
   "metadata": {},
   "outputs": [],
   "source": [
    "records_cluster_0 = []\n",
    "for i_0 in range(0, 4162):\n",
    "    records_cluster_0.append([str(cluster_0.values[i_0,j_0]) for j_0 in range(0, 11)])"
   ]
  },
  {
   "cell_type": "code",
   "execution_count": 1640,
   "metadata": {},
   "outputs": [],
   "source": [
    "records_cluster_1 = []\n",
    "for i_1 in range(0, 1512):\n",
    "    records_cluster_1.append([str(cluster_1.values[i_1,j_1]) for j_1 in range(0, 11)])"
   ]
  },
  {
   "cell_type": "code",
   "execution_count": 1641,
   "metadata": {},
   "outputs": [],
   "source": [
    "records_cluster_2 = []\n",
    "for i_2 in range(0, 1065):\n",
    "    records_cluster_2.append([str(cluster_2.values[i_2,j_2]) for j_2 in range(0, 11)])"
   ]
  },
  {
   "cell_type": "markdown",
   "metadata": {},
   "source": [
    "### Application de l'algorithme apriori sur chaque cluster :"
   ]
  },
  {
   "cell_type": "code",
   "execution_count": 1648,
   "metadata": {},
   "outputs": [
    {
     "name": "stdout",
     "output_type": "stream",
     "text": [
      "{+ 20ans, 2 vehicules} -> {Chauffeur} (conf: 0.860, supp: 0.251, lift: 1.203, conv: 2.035)\n",
      "{Materielle, VP} -> {2 vehicules} (conf: 0.888, supp: 0.285, lift: 1.252, conv: 2.595)\n",
      "{Berline, Materielle} -> {2 vehicules} (conf: 0.889, supp: 0.330, lift: 1.253, conv: 2.614)\n",
      "{12 à 18h, Materielle} -> {2 vehicules} (conf: 0.896, supp: 0.271, lift: 1.264, conv: 2.811)\n",
      "{Materielle, Plus de 10ans} -> {2 vehicules} (conf: 0.905, supp: 0.266, lift: 1.276, conv: 3.049)\n",
      "{Chauffeur, Materielle} -> {2 vehicules} (conf: 0.907, supp: 0.387, lift: 1.279, conv: 3.115)\n",
      "{Dakar, Materielle} -> {2 vehicules} (conf: 0.923, supp: 0.350, lift: 1.302, conv: 3.797)\n",
      "{Dakar, VP} -> {Berline} (conf: 0.963, supp: 0.291, lift: 1.400, conv: 8.367)\n",
      "{2016_, VP} -> {Berline} (conf: 0.968, supp: 0.260, lift: 1.408, conv: 9.699)\n",
      "{Chauffeur, VP} -> {Berline} (conf: 0.971, supp: 0.344, lift: 1.412, conv: 10.730)\n",
      "{2 vehicules, VP} -> {Berline} (conf: 0.971, supp: 0.380, lift: 1.413, conv: 10.834)\n",
      "{Materielle, VP} -> {Berline} (conf: 0.974, supp: 0.313, lift: 1.417, conv: 11.950)\n",
      "{Plus de 10ans, VP} -> {Berline} (conf: 0.976, supp: 0.260, lift: 1.419, conv: 12.839)\n",
      "{2 vehicules, Dakar} -> {Materielle} (conf: 0.870, supp: 0.350, lift: 1.471, conv: 3.153)\n"
     ]
    }
   ],
   "source": [
    "from efficient_apriori import apriori\n",
    "\n",
    "itemsets, rules = apriori(records_cluster_0, min_support=0.25, min_confidence=0.85)\n",
    "\n",
    "# Print out every rule with 2 items on the left hand side,\n",
    "# 1 item on the right hand side, sorted by lift\n",
    "rules_rhs = filter(lambda rule: len(rule.lhs) == 2 and len(rule.rhs) == 1, rules)\n",
    "for rule in sorted(rules_rhs, key=lambda rule: rule.lift):\n",
    "    print(rule) #rints the rule and its confidence, support, lift, ..."
   ]
  },
  {
   "cell_type": "markdown",
   "metadata": {},
   "source": [
    "On voit ici (dernière règle) par exemple si le nombre de vehicules impliqué est 2 vehicules et l'accident s'est produit a Dakar alors le degat de l'accident est materielle avec un niveau confiance de 87%...."
   ]
  },
  {
   "cell_type": "code",
   "execution_count": 1649,
   "metadata": {},
   "outputs": [
    {
     "name": "stdout",
     "output_type": "stream",
     "text": [
      "{ 1 vehicule, Corporelle} -> {Chauffeur} (conf: 0.851, supp: 0.556, lift: 0.980, conv: 0.885)\n",
      "{6 à 12h, Corporelle} -> {Chauffeur} (conf: 0.861, supp: 0.255, lift: 0.992, conv: 0.949)\n",
      "{ 1 vehicule, 6 à 12h} -> {Chauffeur} (conf: 0.865, supp: 0.287, lift: 0.996, conv: 0.972)\n",
      "{+ 20ans, Corporelle} -> {Chauffeur} (conf: 0.922, supp: 0.342, lift: 1.061, conv: 1.678)\n",
      "{ 1 vehicule, + 20ans} -> {Chauffeur} (conf: 0.925, supp: 0.392, lift: 1.065, conv: 1.758)\n",
      "{ 1 vehicule, 25-34 ans} -> {Chauffeur} (conf: 0.934, supp: 0.261, lift: 1.075, conv: 1.988)\n",
      "{ 1 vehicule, Plus de 10ans} -> {Chauffeur} (conf: 0.936, supp: 0.263, lift: 1.078, conv: 2.072)\n",
      "{35-44 ans, TPV} -> {Chauffeur} (conf: 0.973, supp: 0.259, lift: 1.120, conv: 4.822)\n",
      "{Dakar, TPV} -> {Chauffeur} (conf: 0.973, supp: 0.259, lift: 1.120, conv: 4.822)\n",
      "{+ 20ans, TPV} -> {Chauffeur} (conf: 0.975, supp: 0.380, lift: 1.122, conv: 5.177)\n",
      "{Corporelle, TPV} -> {Chauffeur} (conf: 0.975, supp: 0.367, lift: 1.123, conv: 5.349)\n",
      "{ 1 vehicule, TPV} -> {Chauffeur} (conf: 0.975, supp: 0.421, lift: 1.123, conv: 5.371)\n",
      "{+ 20ans, Bus} -> {Chauffeur} (conf: 0.980, supp: 0.261, lift: 1.129, conv: 6.630)\n",
      "{6 à 12h, Corporelle} -> { 1 vehicule} (conf: 0.904, supp: 0.267, lift: 1.132, conv: 2.097)\n",
      "{Bus, TPV} -> {Chauffeur} (conf: 0.984, supp: 0.419, lift: 1.134, conv: 8.476)\n",
      "{Corporelle, TPV} -> { 1 vehicule} (conf: 0.907, supp: 0.341, lift: 1.136, conv: 2.166)\n",
      "{ 1 vehicule, Bus} -> {Chauffeur} (conf: 0.988, supp: 0.284, lift: 1.138, conv: 11.424)\n",
      "{35-44 ans, Corporelle} -> { 1 vehicule} (conf: 0.909, supp: 0.290, lift: 1.138, conv: 2.210)\n",
      "{+ 20ans, Corporelle} -> { 1 vehicule} (conf: 0.918, supp: 0.341, lift: 1.150, conv: 2.460)\n",
      "{Chauffeur, Corporelle} -> { 1 vehicule} (conf: 0.927, supp: 0.556, lift: 1.162, conv: 2.772)\n",
      "{Corporelle, Dakar} -> { 1 vehicule} (conf: 0.953, supp: 0.282, lift: 1.194, conv: 4.303)\n",
      "{ 1 vehicule, Dakar} -> {Corporelle} (conf: 0.903, supp: 0.282, lift: 1.282, conv: 3.040)\n",
      "{ 1 vehicule, Bus} -> {TPV} (conf: 0.956, supp: 0.274, lift: 1.582, conv: 9.034)\n",
      "{Bus, Chauffeur} -> {TPV} (conf: 0.964, supp: 0.419, lift: 1.594, conv: 10.843)\n",
      "{+ 20ans, Bus} -> {TPV} (conf: 0.975, supp: 0.260, lift: 1.613, conv: 15.939)\n"
     ]
    }
   ],
   "source": [
    "from efficient_apriori import apriori\n",
    "\n",
    "itemsets, rules = apriori(records_cluster_1, min_support=0.25, min_confidence=0.85)\n",
    "\n",
    "# Print out every rule with 2 items on the left hand side,\n",
    "# 1 item on the right hand side, sorted by lift\n",
    "rules_rhs = filter(lambda rule: len(rule.lhs) == 2 and len(rule.rhs) == 1, rules)\n",
    "for rule in sorted(rules_rhs, key=lambda rule: rule.lift):\n",
    "    print(rule) #rints the rule and its confidence, support, lift, ..."
   ]
  },
  {
   "cell_type": "markdown",
   "metadata": {},
   "source": [
    "On voit ici (dernière règle) par exemple si l'age vehicule responsable l'accident est entre +20 ans et le vehicule est un Bus l'usage du vehicule est transport de voyageurs avec un niveau de confiance de 97.5% ...."
   ]
  },
  {
   "cell_type": "code",
   "execution_count": 1650,
   "metadata": {},
   "outputs": [
    {
     "name": "stdout",
     "output_type": "stream",
     "text": [
      "{2015_, Materielle} -> {Chauffeur} (conf: 0.881, supp: 0.335, lift: 0.975, conv: 0.808)\n",
      "{2 vehicules, 2015_} -> {Chauffeur} (conf: 0.885, supp: 0.369, lift: 0.979, conv: 0.834)\n",
      "{2015_, Dakar} -> {Chauffeur} (conf: 0.885, supp: 0.261, lift: 0.979, conv: 0.835)\n",
      "{5 à 10ans, Materielle} -> {Chauffeur} (conf: 0.886, supp: 0.276, lift: 0.979, conv: 0.837)\n",
      "{2 vehicules, 5 à 10ans} -> {Chauffeur} (conf: 0.890, supp: 0.304, lift: 0.984, conv: 0.872)\n",
      "{18 à 24h, 2 vehicules} -> {Chauffeur} (conf: 0.895, supp: 0.346, lift: 0.990, conv: 0.915)\n",
      "{18 à 24h, Materielle} -> {Chauffeur} (conf: 0.896, supp: 0.300, lift: 0.991, conv: 0.922)\n",
      "{35-44 ans, Materielle} -> {Chauffeur} (conf: 0.905, supp: 0.356, lift: 1.000, conv: 1.003)\n",
      "{2015_, Chauffeur} -> {2 vehicules} (conf: 0.852, supp: 0.369, lift: 1.001, conv: 1.006)\n",
      "{2 vehicules, 35-44 ans} -> {Chauffeur} (conf: 0.906, supp: 0.388, lift: 1.002, conv: 1.016)\n",
      "{2 vehicules, Dakar} -> {Chauffeur} (conf: 0.910, supp: 0.437, lift: 1.006, conv: 1.064)\n",
      "{Dakar, Materielle} -> {Chauffeur} (conf: 0.913, supp: 0.426, lift: 1.010, conv: 1.107)\n",
      "{2 vehicules, Materielle} -> {Chauffeur} (conf: 0.917, supp: 0.630, lift: 1.014, conv: 1.149)\n",
      "{+ 20ans, Chauffeur} -> {2 vehicules} (conf: 0.864, supp: 0.400, lift: 1.015, conv: 1.092)\n",
      "{Materielle, TPM} -> {Chauffeur} (conf: 0.920, supp: 0.421, lift: 1.017, conv: 1.196)\n",
      "{35-44 ans, Chauffeur} -> {2 vehicules} (conf: 0.871, supp: 0.388, lift: 1.023, conv: 1.153)\n",
      "{2 vehicules, 25-34 ans} -> {Chauffeur} (conf: 0.932, supp: 0.269, lift: 1.031, conv: 1.405)\n",
      "{2 vehicules, TPM} -> {Chauffeur} (conf: 0.932, supp: 0.477, lift: 1.031, conv: 1.411)\n",
      "{Dakar, TPM} -> {Chauffeur} (conf: 0.936, supp: 0.273, lift: 1.035, conv: 1.489)\n",
      "{5 à 10ans, Chauffeur} -> {2 vehicules} (conf: 0.885, supp: 0.304, lift: 1.039, conv: 1.293)\n",
      "{Materielle, TPM} -> {2 vehicules} (conf: 0.887, supp: 0.406, lift: 1.042, conv: 1.314)\n",
      "{Camion, Dakar} -> {2 vehicules} (conf: 0.893, supp: 0.274, lift: 1.049, conv: 1.386)\n",
      "{Dakar, TPM} -> {2 vehicules} (conf: 0.894, supp: 0.261, lift: 1.050, conv: 1.398)\n",
      "{+ 20ans, 2 vehicules} -> {Chauffeur} (conf: 0.951, supp: 0.400, lift: 1.052, conv: 1.950)\n",
      "{Camion, Materielle} -> {2 vehicules} (conf: 0.900, supp: 0.396, lift: 1.057, conv: 1.480)\n",
      "{2015_, Dakar} -> {2 vehicules} (conf: 0.901, supp: 0.266, lift: 1.058, conv: 1.503)\n",
      "{18 à 24h, Materielle} -> {2 vehicules} (conf: 0.904, supp: 0.302, lift: 1.062, conv: 1.553)\n",
      "{+ 20ans, Materielle} -> {2 vehicules} (conf: 0.908, supp: 0.335, lift: 1.067, conv: 1.620)\n",
      "{+ 20ans, Materielle} -> {Chauffeur} (conf: 0.967, supp: 0.357, lift: 1.069, conv: 2.895)\n",
      "{Chauffeur, Materielle} -> {2 vehicules} (conf: 0.912, supp: 0.630, lift: 1.071, conv: 1.680)\n",
      "{5 à 10ans, Materielle} -> {2 vehicules} (conf: 0.913, supp: 0.285, lift: 1.072, conv: 1.698)\n",
      "{Chauffeur, Dakar} -> {2 vehicules} (conf: 0.914, supp: 0.437, lift: 1.073, conv: 1.716)\n",
      "{2015_, Materielle} -> {2 vehicules} (conf: 0.914, supp: 0.347, lift: 1.073, conv: 1.717)\n",
      "{35-44 ans, Materielle} -> {2 vehicules} (conf: 0.914, supp: 0.360, lift: 1.073, conv: 1.727)\n",
      "{+ 20ans, TPM} -> {Chauffeur} (conf: 0.972, supp: 0.295, lift: 1.075, conv: 3.437)\n",
      "{35-44 ans, Camion} -> {Chauffeur} (conf: 0.975, supp: 0.255, lift: 1.078, conv: 3.817)\n",
      "{Camion, Materielle} -> {Chauffeur} (conf: 0.981, supp: 0.432, lift: 1.085, conv: 4.991)\n",
      "{Camion, TPM} -> {Chauffeur} (conf: 0.982, supp: 0.463, lift: 1.086, conv: 5.342)\n",
      "{+ 20ans, Camion} -> {Chauffeur} (conf: 0.985, supp: 0.304, lift: 1.089, conv: 6.302)\n",
      "{2 vehicules, Camion} -> {Chauffeur} (conf: 0.985, supp: 0.488, lift: 1.089, conv: 6.321)\n",
      "{35-44 ans, Dakar} -> {2 vehicules} (conf: 0.929, supp: 0.257, lift: 1.091, conv: 2.084)\n",
      "{Camion, Dakar} -> {Chauffeur} (conf: 0.988, supp: 0.303, lift: 1.092, conv: 7.830)\n",
      "{Dakar, Materielle} -> {2 vehicules} (conf: 0.940, supp: 0.438, lift: 1.103, conv: 2.458)\n",
      "{Camion, Dakar} -> {Materielle} (conf: 0.862, supp: 0.265, lift: 1.135, conv: 1.747)\n",
      "{2015_, Dakar} -> {Materielle} (conf: 0.863, supp: 0.254, lift: 1.136, conv: 1.755)\n",
      "{Dakar, TPM} -> {Materielle} (conf: 0.871, supp: 0.254, lift: 1.147, conv: 1.869)\n",
      "{Chauffeur, Dakar} -> {Materielle} (conf: 0.892, supp: 0.426, lift: 1.174, conv: 2.225)\n",
      "{2 vehicules, Dakar} -> {Materielle} (conf: 0.914, supp: 0.438, lift: 1.203, conv: 2.792)\n",
      "{35-44 ans, Dakar} -> {Materielle} (conf: 0.915, supp: 0.254, lift: 1.205, conv: 2.836)\n"
     ]
    }
   ],
   "source": [
    "from efficient_apriori import apriori\n",
    "\n",
    "itemsets, rules = apriori(records_cluster_2, min_support=0.25, min_confidence=0.85)\n",
    "\n",
    "# Print out every rule with 2 items on the left hand side,\n",
    "# 1 item on the right hand side, sorted by lift\n",
    "rules_rhs = filter(lambda rule: len(rule.lhs) == 2 and len(rule.rhs) == 1, rules)\n",
    "for rule in sorted(rules_rhs, key=lambda rule: rule.lift):\n",
    "    print(rule) #rints the rule and its confidence, support, lift, ..."
   ]
  },
  {
   "cell_type": "markdown",
   "metadata": {},
   "source": [
    "On voit ici (dernière règle) par exemple si l'age du conducteur présumé responsable l'accident est entre 35-44 ans et l'accident s'est produit a Dakar alors le dégat de l'accident est materielle avec un niveau de confiance de 91.5% ...."
   ]
  },
  {
   "cell_type": "code",
   "execution_count": null,
   "metadata": {},
   "outputs": [],
   "source": []
  }
 ],
 "metadata": {
  "kernelspec": {
   "display_name": "Python 3",
   "language": "python",
   "name": "python3"
  },
  "language_info": {
   "codemirror_mode": {
    "name": "ipython",
    "version": 3
   },
   "file_extension": ".py",
   "mimetype": "text/x-python",
   "name": "python",
   "nbconvert_exporter": "python",
   "pygments_lexer": "ipython3",
   "version": "3.7.4"
  }
 },
 "nbformat": 4,
 "nbformat_minor": 2
}
